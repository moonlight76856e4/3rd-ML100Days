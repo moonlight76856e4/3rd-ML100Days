{
 "cells": [
  {
   "cell_type": "code",
   "execution_count": 1,
   "metadata": {},
   "outputs": [],
   "source": [
    "import os\n",
    "import tensorflow.keras as keras\n",
    "import itertools\n",
    "\n",
    "os.environ[\"CUDA_VISIBLE_DEVICES\"] = \"0\""
   ]
  },
  {
   "cell_type": "code",
   "execution_count": 2,
   "metadata": {},
   "outputs": [],
   "source": [
    "train, test = keras.datasets.cifar10.load_data()"
   ]
  },
  {
   "cell_type": "code",
   "execution_count": 3,
   "metadata": {},
   "outputs": [],
   "source": [
    "def preproc_x(x, flatten=True):\n",
    "    x = x / 255.\n",
    "    if flatten:\n",
    "        x = x.reshape((len(x), -1))\n",
    "    return x\n",
    "\n",
    "def preproc_y(y, num_classes=10):\n",
    "    if y.shape[-1] == 1:\n",
    "        y = keras.utils.to_categorical(y, num_classes)\n",
    "    return y"
   ]
  },
  {
   "cell_type": "code",
   "execution_count": 4,
   "metadata": {},
   "outputs": [],
   "source": [
    "x_train, y_train = train\n",
    "x_test, y_test = test\n",
    "\n",
    "# Preproc the inputs\n",
    "x_train = preproc_x(x_train)\n",
    "x_test = preproc_x(x_test)\n",
    "\n",
    "# Preprc the outputs\n",
    "y_train = preproc_y(y_train)\n",
    "y_test = preproc_y(y_test)"
   ]
  },
  {
   "cell_type": "code",
   "execution_count": 5,
   "metadata": {},
   "outputs": [],
   "source": [
    "from tensorflow.keras.layers import BatchNormalization"
   ]
  },
  {
   "cell_type": "code",
   "execution_count": 6,
   "metadata": {},
   "outputs": [],
   "source": [
    "def build_mlp(input_shape, output_units=10, num_neurons=[512, 256, 128]):\n",
    "    input_layer = keras.layers.Input(input_shape)\n",
    "    \n",
    "    for i, n_units in enumerate(num_neurons):\n",
    "        if i == 0:\n",
    "            x = keras.layers.Dense(units=n_units, \n",
    "                                   activation=\"relu\", \n",
    "                                   name=\"hidden_layer\"+str(i+1))(input_layer)\n",
    "            x = BatchNormalization()(x)\n",
    "        else:\n",
    "            x = keras.layers.Dense(units=n_units, \n",
    "                                   activation=\"relu\", \n",
    "                                   name=\"hidden_layer\"+str(i+1))(x)\n",
    "            x = BatchNormalization()(x)\n",
    "    \n",
    "    out = keras.layers.Dense(units=output_units, activation=\"softmax\", name=\"output\")(x)\n",
    "    \n",
    "    model = keras.models.Model(inputs=[input_layer], outputs=[out])\n",
    "    return model"
   ]
  },
  {
   "cell_type": "code",
   "execution_count": null,
   "metadata": {},
   "outputs": [],
   "source": [
    "# Optimizers = SGD, LEARNING_RATE = 1e-3"
   ]
  },
  {
   "cell_type": "code",
   "execution_count": 7,
   "metadata": {},
   "outputs": [],
   "source": [
    "LEARNING_RATE = 1e-3\n",
    "EPOCHS = 50\n",
    "BATCH_SIZE = 1024\n",
    "MOMENTUM = 0.95"
   ]
  },
  {
   "cell_type": "code",
   "execution_count": 8,
   "metadata": {},
   "outputs": [
    {
     "name": "stdout",
     "output_type": "stream",
     "text": [
      "Model: \"model\"\n",
      "_________________________________________________________________\n",
      "Layer (type)                 Output Shape              Param #   \n",
      "=================================================================\n",
      "input_1 (InputLayer)         [(None, 3072)]            0         \n",
      "_________________________________________________________________\n",
      "hidden_layer1 (Dense)        (None, 512)               1573376   \n",
      "_________________________________________________________________\n",
      "batch_normalization (BatchNo (None, 512)               2048      \n",
      "_________________________________________________________________\n",
      "hidden_layer2 (Dense)        (None, 256)               131328    \n",
      "_________________________________________________________________\n",
      "batch_normalization_1 (Batch (None, 256)               1024      \n",
      "_________________________________________________________________\n",
      "hidden_layer3 (Dense)        (None, 128)               32896     \n",
      "_________________________________________________________________\n",
      "batch_normalization_2 (Batch (None, 128)               512       \n",
      "_________________________________________________________________\n",
      "output (Dense)               (None, 10)                1290      \n",
      "=================================================================\n",
      "Total params: 1,742,474\n",
      "Trainable params: 1,740,682\n",
      "Non-trainable params: 1,792\n",
      "_________________________________________________________________\n",
      "Train on 50000 samples, validate on 10000 samples\n",
      "Epoch 1/50\n",
      "50000/50000 [==============================] - 2s 32us/sample - loss: 2.1782 - accuracy: 0.2803 - val_loss: 2.1279 - val_accuracy: 0.2144\n",
      "Epoch 2/50\n",
      "50000/50000 [==============================] - 1s 10us/sample - loss: 1.7351 - accuracy: 0.3910 - val_loss: 1.9695 - val_accuracy: 0.2983\n",
      "Epoch 3/50\n",
      "50000/50000 [==============================] - 1s 10us/sample - loss: 1.6167 - accuracy: 0.4295 - val_loss: 1.8074 - val_accuracy: 0.3709\n",
      "Epoch 4/50\n",
      "50000/50000 [==============================] - 1s 11us/sample - loss: 1.5455 - accuracy: 0.4566 - val_loss: 1.7132 - val_accuracy: 0.3965\n",
      "Epoch 5/50\n",
      "50000/50000 [==============================] - 1s 10us/sample - loss: 1.4908 - accuracy: 0.4762 - val_loss: 1.6410 - val_accuracy: 0.4209\n",
      "Epoch 6/50\n",
      "50000/50000 [==============================] - 1s 11us/sample - loss: 1.4468 - accuracy: 0.4923 - val_loss: 1.5937 - val_accuracy: 0.4347\n",
      "Epoch 7/50\n",
      "50000/50000 [==============================] - 1s 10us/sample - loss: 1.4054 - accuracy: 0.5088 - val_loss: 1.5505 - val_accuracy: 0.4474\n",
      "Epoch 8/50\n",
      "50000/50000 [==============================] - 1s 11us/sample - loss: 1.3718 - accuracy: 0.5189 - val_loss: 1.5215 - val_accuracy: 0.4553\n",
      "Epoch 9/50\n",
      "50000/50000 [==============================] - 1s 11us/sample - loss: 1.3410 - accuracy: 0.5318 - val_loss: 1.5060 - val_accuracy: 0.4658\n",
      "Epoch 10/50\n",
      "50000/50000 [==============================] - 1s 11us/sample - loss: 1.3100 - accuracy: 0.5432 - val_loss: 1.4927 - val_accuracy: 0.4714\n",
      "Epoch 11/50\n",
      "50000/50000 [==============================] - 1s 11us/sample - loss: 1.2832 - accuracy: 0.5536 - val_loss: 1.4806 - val_accuracy: 0.4761\n",
      "Epoch 12/50\n",
      "50000/50000 [==============================] - 1s 10us/sample - loss: 1.2557 - accuracy: 0.5623 - val_loss: 1.4678 - val_accuracy: 0.4760\n",
      "Epoch 13/50\n",
      "50000/50000 [==============================] - 1s 11us/sample - loss: 1.2303 - accuracy: 0.5725 - val_loss: 1.4742 - val_accuracy: 0.4720\n",
      "Epoch 14/50\n",
      "50000/50000 [==============================] - 1s 11us/sample - loss: 1.2043 - accuracy: 0.5820 - val_loss: 1.4663 - val_accuracy: 0.4788\n",
      "Epoch 15/50\n",
      "50000/50000 [==============================] - 1s 10us/sample - loss: 1.1818 - accuracy: 0.5931 - val_loss: 1.4539 - val_accuracy: 0.4843\n",
      "Epoch 16/50\n",
      "50000/50000 [==============================] - 1s 11us/sample - loss: 1.1565 - accuracy: 0.6022 - val_loss: 1.4617 - val_accuracy: 0.4854\n",
      "Epoch 17/50\n",
      "50000/50000 [==============================] - 1s 11us/sample - loss: 1.1337 - accuracy: 0.6096 - val_loss: 1.4578 - val_accuracy: 0.4854\n",
      "Epoch 18/50\n",
      "50000/50000 [==============================] - 1s 11us/sample - loss: 1.1107 - accuracy: 0.6179 - val_loss: 1.4567 - val_accuracy: 0.4840\n",
      "Epoch 19/50\n",
      "50000/50000 [==============================] - 1s 10us/sample - loss: 1.0866 - accuracy: 0.6285 - val_loss: 1.4548 - val_accuracy: 0.4914\n",
      "Epoch 20/50\n",
      "50000/50000 [==============================] - 1s 11us/sample - loss: 1.0641 - accuracy: 0.6363 - val_loss: 1.4448 - val_accuracy: 0.4917\n",
      "Epoch 21/50\n",
      "50000/50000 [==============================] - 1s 11us/sample - loss: 1.0435 - accuracy: 0.6428 - val_loss: 1.4532 - val_accuracy: 0.4892\n",
      "Epoch 22/50\n",
      "50000/50000 [==============================] - 1s 10us/sample - loss: 1.0219 - accuracy: 0.6523 - val_loss: 1.4565 - val_accuracy: 0.4887\n",
      "Epoch 23/50\n",
      "50000/50000 [==============================] - 1s 11us/sample - loss: 1.0000 - accuracy: 0.6600 - val_loss: 1.4559 - val_accuracy: 0.4904\n",
      "Epoch 24/50\n",
      "50000/50000 [==============================] - 1s 11us/sample - loss: 0.9810 - accuracy: 0.6670 - val_loss: 1.4495 - val_accuracy: 0.4941\n",
      "Epoch 25/50\n",
      "50000/50000 [==============================] - 1s 11us/sample - loss: 0.9585 - accuracy: 0.6774 - val_loss: 1.4516 - val_accuracy: 0.4977\n",
      "Epoch 26/50\n",
      "50000/50000 [==============================] - 1s 10us/sample - loss: 0.9384 - accuracy: 0.6844 - val_loss: 1.4623 - val_accuracy: 0.4910\n",
      "Epoch 27/50\n",
      "50000/50000 [==============================] - 1s 11us/sample - loss: 0.9172 - accuracy: 0.6922 - val_loss: 1.4649 - val_accuracy: 0.4966\n",
      "Epoch 28/50\n",
      "50000/50000 [==============================] - 1s 11us/sample - loss: 0.8981 - accuracy: 0.7002 - val_loss: 1.4719 - val_accuracy: 0.4940\n",
      "Epoch 29/50\n",
      "50000/50000 [==============================] - 1s 11us/sample - loss: 0.8773 - accuracy: 0.7084 - val_loss: 1.4835 - val_accuracy: 0.4886\n",
      "Epoch 30/50\n",
      "50000/50000 [==============================] - 1s 11us/sample - loss: 0.8574 - accuracy: 0.7171 - val_loss: 1.4679 - val_accuracy: 0.4936\n",
      "Epoch 31/50\n",
      "50000/50000 [==============================] - 1s 11us/sample - loss: 0.8387 - accuracy: 0.7227 - val_loss: 1.4884 - val_accuracy: 0.4936\n",
      "Epoch 32/50\n",
      "50000/50000 [==============================] - 1s 10us/sample - loss: 0.8199 - accuracy: 0.7301 - val_loss: 1.4805 - val_accuracy: 0.4995\n",
      "Epoch 33/50\n",
      "50000/50000 [==============================] - 1s 10us/sample - loss: 0.8000 - accuracy: 0.7374 - val_loss: 1.4925 - val_accuracy: 0.4953\n",
      "Epoch 34/50\n",
      "50000/50000 [==============================] - 1s 10us/sample - loss: 0.7796 - accuracy: 0.7460 - val_loss: 1.5022 - val_accuracy: 0.4935\n",
      "Epoch 35/50\n",
      "50000/50000 [==============================] - 1s 11us/sample - loss: 0.7610 - accuracy: 0.7552 - val_loss: 1.5209 - val_accuracy: 0.4917\n",
      "Epoch 36/50\n",
      "50000/50000 [==============================] - 1s 10us/sample - loss: 0.7427 - accuracy: 0.7607 - val_loss: 1.5159 - val_accuracy: 0.4918\n",
      "Epoch 37/50\n",
      "50000/50000 [==============================] - 1s 11us/sample - loss: 0.7221 - accuracy: 0.7672 - val_loss: 1.5121 - val_accuracy: 0.4974\n",
      "Epoch 38/50\n",
      "50000/50000 [==============================] - 1s 11us/sample - loss: 0.7031 - accuracy: 0.7765 - val_loss: 1.5437 - val_accuracy: 0.4945\n",
      "Epoch 39/50\n",
      "50000/50000 [==============================] - 1s 11us/sample - loss: 0.6853 - accuracy: 0.7855 - val_loss: 1.5223 - val_accuracy: 0.4971\n",
      "Epoch 40/50\n",
      "50000/50000 [==============================] - 1s 10us/sample - loss: 0.6667 - accuracy: 0.7915 - val_loss: 1.5543 - val_accuracy: 0.4898\n",
      "Epoch 41/50\n",
      "50000/50000 [==============================] - 1s 10us/sample - loss: 0.6504 - accuracy: 0.7977 - val_loss: 1.5504 - val_accuracy: 0.4950\n",
      "Epoch 42/50\n",
      "50000/50000 [==============================] - 1s 10us/sample - loss: 0.6302 - accuracy: 0.8061 - val_loss: 1.5907 - val_accuracy: 0.4877\n",
      "Epoch 43/50\n",
      "50000/50000 [==============================] - 1s 11us/sample - loss: 0.6133 - accuracy: 0.8123 - val_loss: 1.5793 - val_accuracy: 0.4920\n",
      "Epoch 44/50\n",
      "50000/50000 [==============================] - 1s 11us/sample - loss: 0.5940 - accuracy: 0.8221 - val_loss: 1.5958 - val_accuracy: 0.4898\n",
      "Epoch 45/50\n",
      "50000/50000 [==============================] - 1s 11us/sample - loss: 0.5789 - accuracy: 0.8259 - val_loss: 1.5968 - val_accuracy: 0.4875\n"
     ]
    },
    {
     "name": "stdout",
     "output_type": "stream",
     "text": [
      "Epoch 46/50\n",
      "50000/50000 [==============================] - 1s 10us/sample - loss: 0.5595 - accuracy: 0.8340 - val_loss: 1.6020 - val_accuracy: 0.4976\n",
      "Epoch 47/50\n",
      "50000/50000 [==============================] - 1s 10us/sample - loss: 0.5437 - accuracy: 0.8420 - val_loss: 1.6280 - val_accuracy: 0.4940\n",
      "Epoch 48/50\n",
      "50000/50000 [==============================] - 1s 10us/sample - loss: 0.5275 - accuracy: 0.8466 - val_loss: 1.6357 - val_accuracy: 0.4883\n",
      "Epoch 49/50\n",
      "50000/50000 [==============================] - 1s 10us/sample - loss: 0.5094 - accuracy: 0.8556 - val_loss: 1.6641 - val_accuracy: 0.4848\n",
      "Epoch 50/50\n",
      "50000/50000 [==============================] - 1s 10us/sample - loss: 0.4927 - accuracy: 0.8627 - val_loss: 1.6623 - val_accuracy: 0.4849\n"
     ]
    }
   ],
   "source": [
    "model = build_mlp(input_shape=x_train.shape[1:])\n",
    "model.summary()\n",
    "optimizer = keras.optimizers.SGD(lr=LEARNING_RATE, nesterov=True, momentum=MOMENTUM)\n",
    "model.compile(loss=\"categorical_crossentropy\", metrics=[\"accuracy\"], optimizer=optimizer)\n",
    "\n",
    "model.fit(x_train, y_train, \n",
    "          epochs=EPOCHS, \n",
    "          batch_size=BATCH_SIZE, \n",
    "          validation_data=(x_test, y_test), \n",
    "          shuffle=True)\n",
    "\n",
    "# Collect results\n",
    "train_loss = model.history.history[\"loss\"]\n",
    "valid_loss = model.history.history[\"val_loss\"]\n",
    "train_acc = model.history.history[\"accuracy\"]\n",
    "valid_acc = model.history.history[\"val_accuracy\"]"
   ]
  },
  {
   "cell_type": "code",
   "execution_count": 10,
   "metadata": {},
   "outputs": [
    {
     "data": {
      "image/png": "[encoded data removed]",
      "text/plain": [
       "<Figure size 432x288 with 1 Axes>"
      ]
     },
     "metadata": {
      "needs_background": "light"
     },
     "output_type": "display_data"
    },
    {
     "data": {
      "image/png": "[encoded data removed]",
      "text/plain": [
       "<Figure size 432x288 with 1 Axes>"
      ]
     },
     "metadata": {
      "needs_background": "light"
     },
     "output_type": "display_data"
    }
   ],
   "source": [
    "import matplotlib.pyplot as plt\n",
    "\n",
    "plt.plot(range(len(train_loss)), train_loss, label=\"train loss\")\n",
    "plt.plot(range(len(valid_loss)), valid_loss, label=\"valid loss\")\n",
    "plt.legend()\n",
    "plt.title(\"Loss\")\n",
    "plt.show()\n",
    "\n",
    "plt.plot(range(len(train_acc)), train_acc, label=\"train accuracy\")\n",
    "plt.plot(range(len(valid_acc)), valid_acc, label=\"valid accuracy\")\n",
    "plt.legend()\n",
    "plt.title(\"Accuracy\")\n",
    "plt.show()"
   ]
  },
  {
   "cell_type": "code",
   "execution_count": null,
   "metadata": {},
   "outputs": [],
   "source": [
    "# Optimizers = Adam, LEARNING_RATE = 1e-3"
   ]
  },
  {
   "cell_type": "code",
   "execution_count": 11,
   "metadata": {},
   "outputs": [],
   "source": [
    "LEARNING_RATE = 1e-3\n",
    "EPOCHS = 50\n",
    "BATCH_SIZE = 1024\n",
    "MOMENTUM = 0.95"
   ]
  },
  {
   "cell_type": "code",
   "execution_count": 12,
   "metadata": {},
   "outputs": [
    {
     "name": "stdout",
     "output_type": "stream",
     "text": [
      "Model: \"model_1\"\n",
      "_________________________________________________________________\n",
      "Layer (type)                 Output Shape              Param #   \n",
      "=================================================================\n",
      "input_2 (InputLayer)         [(None, 3072)]            0         \n",
      "_________________________________________________________________\n",
      "hidden_layer1 (Dense)        (None, 512)               1573376   \n",
      "_________________________________________________________________\n",
      "batch_normalization_3 (Batch (None, 512)               2048      \n",
      "_________________________________________________________________\n",
      "hidden_layer2 (Dense)        (None, 256)               131328    \n",
      "_________________________________________________________________\n",
      "batch_normalization_4 (Batch (None, 256)               1024      \n",
      "_________________________________________________________________\n",
      "hidden_layer3 (Dense)        (None, 128)               32896     \n",
      "_________________________________________________________________\n",
      "batch_normalization_5 (Batch (None, 128)               512       \n",
      "_________________________________________________________________\n",
      "output (Dense)               (None, 10)                1290      \n",
      "=================================================================\n",
      "Total params: 1,742,474\n",
      "Trainable params: 1,740,682\n",
      "Non-trainable params: 1,792\n",
      "_________________________________________________________________\n",
      "Train on 50000 samples, validate on 10000 samples\n",
      "Epoch 1/50\n",
      "50000/50000 [==============================] - 1s 28us/sample - loss: 1.7668 - accuracy: 0.3877 - val_loss: 2.8729 - val_accuracy: 0.1940\n",
      "Epoch 2/50\n",
      "50000/50000 [==============================] - 1s 11us/sample - loss: 1.4951 - accuracy: 0.4748 - val_loss: 2.0035 - val_accuracy: 0.2984\n",
      "Epoch 3/50\n",
      "50000/50000 [==============================] - 1s 11us/sample - loss: 1.3924 - accuracy: 0.5080 - val_loss: 1.7491 - val_accuracy: 0.3883\n",
      "Epoch 4/50\n",
      "50000/50000 [==============================] - 1s 11us/sample - loss: 1.3100 - accuracy: 0.5367 - val_loss: 1.6877 - val_accuracy: 0.3964\n",
      "Epoch 5/50\n",
      "50000/50000 [==============================] - 1s 11us/sample - loss: 1.2394 - accuracy: 0.5599 - val_loss: 1.7110 - val_accuracy: 0.4011\n",
      "Epoch 6/50\n",
      "50000/50000 [==============================] - 1s 11us/sample - loss: 1.1882 - accuracy: 0.5818 - val_loss: 1.6609 - val_accuracy: 0.4180\n",
      "Epoch 7/50\n",
      "50000/50000 [==============================] - 1s 11us/sample - loss: 1.1347 - accuracy: 0.6011 - val_loss: 1.7108 - val_accuracy: 0.4012\n",
      "Epoch 8/50\n",
      "50000/50000 [==============================] - 1s 11us/sample - loss: 1.0856 - accuracy: 0.6184 - val_loss: 2.0071 - val_accuracy: 0.3801\n",
      "Epoch 9/50\n",
      "50000/50000 [==============================] - 1s 11us/sample - loss: 1.0400 - accuracy: 0.6326 - val_loss: 1.9604 - val_accuracy: 0.3722\n",
      "Epoch 10/50\n",
      "50000/50000 [==============================] - 1s 11us/sample - loss: 0.9943 - accuracy: 0.6513 - val_loss: 1.6698 - val_accuracy: 0.4242\n",
      "Epoch 11/50\n",
      "50000/50000 [==============================] - 1s 11us/sample - loss: 0.9580 - accuracy: 0.6623 - val_loss: 1.8576 - val_accuracy: 0.3857\n",
      "Epoch 12/50\n",
      "50000/50000 [==============================] - 1s 11us/sample - loss: 0.9152 - accuracy: 0.6803 - val_loss: 1.8877 - val_accuracy: 0.3941\n",
      "Epoch 13/50\n",
      "50000/50000 [==============================] - 1s 11us/sample - loss: 0.8805 - accuracy: 0.6912 - val_loss: 1.7841 - val_accuracy: 0.3965\n",
      "Epoch 14/50\n",
      "50000/50000 [==============================] - 1s 11us/sample - loss: 0.8517 - accuracy: 0.7020 - val_loss: 2.1702 - val_accuracy: 0.3458\n",
      "Epoch 15/50\n",
      "50000/50000 [==============================] - 1s 10us/sample - loss: 0.8088 - accuracy: 0.7164 - val_loss: 1.8684 - val_accuracy: 0.4082\n",
      "Epoch 16/50\n",
      "50000/50000 [==============================] - 1s 11us/sample - loss: 0.7774 - accuracy: 0.7303 - val_loss: 2.2312 - val_accuracy: 0.3606\n",
      "Epoch 17/50\n",
      "50000/50000 [==============================] - 1s 11us/sample - loss: 0.7508 - accuracy: 0.7379 - val_loss: 2.2716 - val_accuracy: 0.3651\n",
      "Epoch 18/50\n",
      "50000/50000 [==============================] - 1s 11us/sample - loss: 0.7075 - accuracy: 0.7529 - val_loss: 1.9621 - val_accuracy: 0.4165\n",
      "Epoch 19/50\n",
      "50000/50000 [==============================] - 1s 10us/sample - loss: 0.6686 - accuracy: 0.7666 - val_loss: 1.9687 - val_accuracy: 0.4319\n",
      "Epoch 20/50\n",
      "50000/50000 [==============================] - 1s 11us/sample - loss: 0.6346 - accuracy: 0.7805 - val_loss: 2.1229 - val_accuracy: 0.4025\n",
      "Epoch 21/50\n",
      "50000/50000 [==============================] - 1s 11us/sample - loss: 0.6092 - accuracy: 0.7889 - val_loss: 2.3436 - val_accuracy: 0.3877\n",
      "Epoch 22/50\n",
      "50000/50000 [==============================] - 1s 11us/sample - loss: 0.5700 - accuracy: 0.8049 - val_loss: 2.1922 - val_accuracy: 0.3947\n",
      "Epoch 23/50\n",
      "50000/50000 [==============================] - 1s 11us/sample - loss: 0.5395 - accuracy: 0.8138 - val_loss: 2.3247 - val_accuracy: 0.4145\n",
      "Epoch 24/50\n",
      "50000/50000 [==============================] - 1s 11us/sample - loss: 0.5210 - accuracy: 0.8209 - val_loss: 2.3736 - val_accuracy: 0.3808\n",
      "Epoch 25/50\n",
      "50000/50000 [==============================] - 1s 11us/sample - loss: 0.4874 - accuracy: 0.8332 - val_loss: 2.5149 - val_accuracy: 0.3867\n",
      "Epoch 26/50\n",
      "50000/50000 [==============================] - 1s 10us/sample - loss: 0.4588 - accuracy: 0.8429 - val_loss: 2.6482 - val_accuracy: 0.3746\n",
      "Epoch 27/50\n",
      "50000/50000 [==============================] - 1s 11us/sample - loss: 0.4240 - accuracy: 0.8579 - val_loss: 2.2815 - val_accuracy: 0.4366\n",
      "Epoch 28/50\n",
      "50000/50000 [==============================] - 1s 11us/sample - loss: 0.4099 - accuracy: 0.8595 - val_loss: 2.1831 - val_accuracy: 0.4477\n",
      "Epoch 29/50\n",
      "50000/50000 [==============================] - 1s 11us/sample - loss: 0.3628 - accuracy: 0.8798 - val_loss: 2.2208 - val_accuracy: 0.4420\n",
      "Epoch 30/50\n",
      "50000/50000 [==============================] - 1s 11us/sample - loss: 0.3474 - accuracy: 0.8837 - val_loss: 2.4748 - val_accuracy: 0.4240\n",
      "Epoch 31/50\n",
      "50000/50000 [==============================] - 1s 11us/sample - loss: 0.3303 - accuracy: 0.8909 - val_loss: 2.1865 - val_accuracy: 0.4691\n",
      "Epoch 32/50\n",
      "50000/50000 [==============================] - 1s 11us/sample - loss: 0.2994 - accuracy: 0.9040 - val_loss: 2.4700 - val_accuracy: 0.4436\n",
      "Epoch 33/50\n",
      "50000/50000 [==============================] - 1s 10us/sample - loss: 0.2756 - accuracy: 0.9105 - val_loss: 2.2327 - val_accuracy: 0.4649\n",
      "Epoch 34/50\n",
      "50000/50000 [==============================] - 1s 11us/sample - loss: 0.2653 - accuracy: 0.9148 - val_loss: 2.4516 - val_accuracy: 0.4650\n",
      "Epoch 35/50\n",
      "50000/50000 [==============================] - 1s 10us/sample - loss: 0.2461 - accuracy: 0.9218 - val_loss: 2.3488 - val_accuracy: 0.4815\n",
      "Epoch 36/50\n",
      "50000/50000 [==============================] - 1s 11us/sample - loss: 0.2240 - accuracy: 0.9306 - val_loss: 2.5179 - val_accuracy: 0.4633\n",
      "Epoch 37/50\n",
      "50000/50000 [==============================] - 1s 11us/sample - loss: 0.2194 - accuracy: 0.9301 - val_loss: 2.6387 - val_accuracy: 0.4558\n",
      "Epoch 38/50\n",
      "50000/50000 [==============================] - 1s 11us/sample - loss: 0.2033 - accuracy: 0.9374 - val_loss: 2.8390 - val_accuracy: 0.4490\n",
      "Epoch 39/50\n",
      "50000/50000 [==============================] - 1s 11us/sample - loss: 0.2025 - accuracy: 0.9366 - val_loss: 2.8988 - val_accuracy: 0.4498\n",
      "Epoch 40/50\n",
      "50000/50000 [==============================] - 1s 10us/sample - loss: 0.1919 - accuracy: 0.9387 - val_loss: 3.0221 - val_accuracy: 0.4562\n",
      "Epoch 41/50\n",
      "50000/50000 [==============================] - 1s 10us/sample - loss: 0.1723 - accuracy: 0.9464 - val_loss: 2.9650 - val_accuracy: 0.4435\n",
      "Epoch 42/50\n",
      "50000/50000 [==============================] - 1s 11us/sample - loss: 0.1556 - accuracy: 0.9538 - val_loss: 2.7932 - val_accuracy: 0.4526\n",
      "Epoch 43/50\n",
      "50000/50000 [==============================] - 1s 11us/sample - loss: 0.1531 - accuracy: 0.9527 - val_loss: 2.8114 - val_accuracy: 0.4582\n",
      "Epoch 44/50\n",
      "50000/50000 [==============================] - 1s 11us/sample - loss: 0.1350 - accuracy: 0.9596 - val_loss: 2.7536 - val_accuracy: 0.4805\n",
      "Epoch 45/50\n",
      "50000/50000 [==============================] - 1s 11us/sample - loss: 0.1394 - accuracy: 0.9570 - val_loss: 3.0808 - val_accuracy: 0.4573\n"
     ]
    },
    {
     "name": "stdout",
     "output_type": "stream",
     "text": [
      "Epoch 46/50\n",
      "50000/50000 [==============================] - 1s 10us/sample - loss: 0.1353 - accuracy: 0.9586 - val_loss: 3.1017 - val_accuracy: 0.4728\n",
      "Epoch 47/50\n",
      "50000/50000 [==============================] - 1s 11us/sample - loss: 0.1201 - accuracy: 0.9647 - val_loss: 3.1452 - val_accuracy: 0.4516\n",
      "Epoch 48/50\n",
      "50000/50000 [==============================] - 1s 10us/sample - loss: 0.1200 - accuracy: 0.9639 - val_loss: 2.9906 - val_accuracy: 0.4530\n",
      "Epoch 49/50\n",
      "50000/50000 [==============================] - 1s 11us/sample - loss: 0.1176 - accuracy: 0.9650 - val_loss: 3.2188 - val_accuracy: 0.4564\n",
      "Epoch 50/50\n",
      "50000/50000 [==============================] - 1s 11us/sample - loss: 0.1115 - accuracy: 0.9665 - val_loss: 3.0774 - val_accuracy: 0.4627\n"
     ]
    }
   ],
   "source": [
    "model = build_mlp(input_shape=x_train.shape[1:])\n",
    "model.summary()\n",
    "optimizer = keras.optimizers.Adam(lr=LEARNING_RATE)\n",
    "model.compile(loss=\"categorical_crossentropy\", metrics=[\"accuracy\"], optimizer=optimizer)\n",
    "\n",
    "model.fit(x_train, y_train, \n",
    "          epochs=EPOCHS, \n",
    "          batch_size=BATCH_SIZE, \n",
    "          validation_data=(x_test, y_test), \n",
    "          shuffle=True)\n",
    "\n",
    "# Collect results\n",
    "train_loss = model.history.history[\"loss\"]\n",
    "valid_loss = model.history.history[\"val_loss\"]\n",
    "train_acc = model.history.history[\"accuracy\"]\n",
    "valid_acc = model.history.history[\"val_accuracy\"]"
   ]
  },
  {
   "cell_type": "code",
   "execution_count": 13,
   "metadata": {},
   "outputs": [
    {
     "data": {
      "image/png": "[encoded data removed]",
      "text/plain": [
       "<Figure size 432x288 with 1 Axes>"
      ]
     },
     "metadata": {
      "needs_background": "light"
     },
     "output_type": "display_data"
    },
    {
     "data": {
      "image/png": "[encoded data removed]",
      "text/plain": [
       "<Figure size 432x288 with 1 Axes>"
      ]
     },
     "metadata": {
      "needs_background": "light"
     },
     "output_type": "display_data"
    }
   ],
   "source": [
    "import matplotlib.pyplot as plt\n",
    "\n",
    "plt.plot(range(len(train_loss)), train_loss, label=\"train loss\")\n",
    "plt.plot(range(len(valid_loss)), valid_loss, label=\"valid loss\")\n",
    "plt.legend()\n",
    "plt.title(\"Loss\")\n",
    "plt.show()\n",
    "\n",
    "plt.plot(range(len(train_acc)), train_acc, label=\"train accuracy\")\n",
    "plt.plot(range(len(valid_acc)), valid_acc, label=\"valid accuracy\")\n",
    "plt.legend()\n",
    "plt.title(\"Accuracy\")\n",
    "plt.show()"
   ]
  },
  {
   "cell_type": "code",
   "execution_count": null,
   "metadata": {},
   "outputs": [],
   "source": [
    "# # Optimizers = SGD, LEARNING_RATE = 1e-4"
   ]
  },
  {
   "cell_type": "code",
   "execution_count": 14,
   "metadata": {},
   "outputs": [],
   "source": [
    "LEARNING_RATE = 1e-4\n",
    "EPOCHS = 50\n",
    "BATCH_SIZE = 1024\n",
    "MOMENTUM = 0.95"
   ]
  },
  {
   "cell_type": "code",
   "execution_count": 15,
   "metadata": {},
   "outputs": [
    {
     "name": "stdout",
     "output_type": "stream",
     "text": [
      "Model: \"model_2\"\n",
      "_________________________________________________________________\n",
      "Layer (type)                 Output Shape              Param #   \n",
      "=================================================================\n",
      "input_3 (InputLayer)         [(None, 3072)]            0         \n",
      "_________________________________________________________________\n",
      "hidden_layer1 (Dense)        (None, 512)               1573376   \n",
      "_________________________________________________________________\n",
      "batch_normalization_6 (Batch (None, 512)               2048      \n",
      "_________________________________________________________________\n",
      "hidden_layer2 (Dense)        (None, 256)               131328    \n",
      "_________________________________________________________________\n",
      "batch_normalization_7 (Batch (None, 256)               1024      \n",
      "_________________________________________________________________\n",
      "hidden_layer3 (Dense)        (None, 128)               32896     \n",
      "_________________________________________________________________\n",
      "batch_normalization_8 (Batch (None, 128)               512       \n",
      "_________________________________________________________________\n",
      "output (Dense)               (None, 10)                1290      \n",
      "=================================================================\n",
      "Total params: 1,742,474\n",
      "Trainable params: 1,740,682\n",
      "Non-trainable params: 1,792\n",
      "_________________________________________________________________\n",
      "Train on 50000 samples, validate on 10000 samples\n",
      "Epoch 1/50\n",
      "50000/50000 [==============================] - 1s 26us/sample - loss: 2.7349 - accuracy: 0.1498 - val_loss: 2.2431 - val_accuracy: 0.1369\n",
      "Epoch 2/50\n",
      "50000/50000 [==============================] - 1s 10us/sample - loss: 2.2662 - accuracy: 0.2527 - val_loss: 2.1620 - val_accuracy: 0.2140\n",
      "Epoch 3/50\n",
      "50000/50000 [==============================] - 1s 10us/sample - loss: 2.0883 - accuracy: 0.2945 - val_loss: 2.0923 - val_accuracy: 0.2574\n",
      "Epoch 4/50\n",
      "50000/50000 [==============================] - 1s 10us/sample - loss: 1.9887 - accuracy: 0.3206 - val_loss: 2.0218 - val_accuracy: 0.2833\n",
      "Epoch 5/50\n",
      "50000/50000 [==============================] - 1s 11us/sample - loss: 1.9202 - accuracy: 0.3408 - val_loss: 1.9615 - val_accuracy: 0.3081\n",
      "Epoch 6/50\n",
      "50000/50000 [==============================] - 1s 11us/sample - loss: 1.8698 - accuracy: 0.3558 - val_loss: 1.9095 - val_accuracy: 0.3257\n",
      "Epoch 7/50\n",
      "50000/50000 [==============================] - 1s 11us/sample - loss: 1.8297 - accuracy: 0.3667 - val_loss: 1.8661 - val_accuracy: 0.3393\n",
      "Epoch 8/50\n",
      "50000/50000 [==============================] - 1s 11us/sample - loss: 1.7948 - accuracy: 0.3793 - val_loss: 1.8352 - val_accuracy: 0.3509\n",
      "Epoch 9/50\n",
      "50000/50000 [==============================] - 1s 11us/sample - loss: 1.7649 - accuracy: 0.3880 - val_loss: 1.8172 - val_accuracy: 0.3609\n",
      "Epoch 10/50\n",
      "50000/50000 [==============================] - 1s 10us/sample - loss: 1.7395 - accuracy: 0.3952 - val_loss: 1.7966 - val_accuracy: 0.3713\n",
      "Epoch 11/50\n",
      "50000/50000 [==============================] - 1s 11us/sample - loss: 1.7149 - accuracy: 0.4044 - val_loss: 1.7842 - val_accuracy: 0.3808\n",
      "Epoch 12/50\n",
      "50000/50000 [==============================] - 1s 11us/sample - loss: 1.6963 - accuracy: 0.4084 - val_loss: 1.7723 - val_accuracy: 0.3806\n",
      "Epoch 13/50\n",
      "50000/50000 [==============================] - 1s 11us/sample - loss: 1.6761 - accuracy: 0.4162 - val_loss: 1.7605 - val_accuracy: 0.3874\n",
      "Epoch 14/50\n",
      "50000/50000 [==============================] - 1s 11us/sample - loss: 1.6590 - accuracy: 0.4231 - val_loss: 1.7531 - val_accuracy: 0.3927\n",
      "Epoch 15/50\n",
      "50000/50000 [==============================] - 1s 10us/sample - loss: 1.6424 - accuracy: 0.4285 - val_loss: 1.7452 - val_accuracy: 0.3964\n",
      "Epoch 16/50\n",
      "50000/50000 [==============================] - 1s 10us/sample - loss: 1.6283 - accuracy: 0.4320 - val_loss: 1.7360 - val_accuracy: 0.3980\n",
      "Epoch 17/50\n",
      "50000/50000 [==============================] - 1s 11us/sample - loss: 1.6137 - accuracy: 0.4380 - val_loss: 1.7300 - val_accuracy: 0.3976\n",
      "Epoch 18/50\n",
      "50000/50000 [==============================] - 1s 11us/sample - loss: 1.6005 - accuracy: 0.4419 - val_loss: 1.7203 - val_accuracy: 0.4031\n",
      "Epoch 19/50\n",
      "50000/50000 [==============================] - 1s 11us/sample - loss: 1.5880 - accuracy: 0.4451 - val_loss: 1.7136 - val_accuracy: 0.4039\n",
      "Epoch 20/50\n",
      "50000/50000 [==============================] - 1s 10us/sample - loss: 1.5766 - accuracy: 0.4496 - val_loss: 1.7053 - val_accuracy: 0.4070\n",
      "Epoch 21/50\n",
      "50000/50000 [==============================] - 1s 11us/sample - loss: 1.5647 - accuracy: 0.4543 - val_loss: 1.6990 - val_accuracy: 0.4085\n",
      "Epoch 22/50\n",
      "50000/50000 [==============================] - 1s 10us/sample - loss: 1.5547 - accuracy: 0.4567 - val_loss: 1.6924 - val_accuracy: 0.4122\n",
      "Epoch 23/50\n",
      "50000/50000 [==============================] - 1s 11us/sample - loss: 1.5441 - accuracy: 0.4598 - val_loss: 1.6848 - val_accuracy: 0.4146\n",
      "Epoch 24/50\n",
      "50000/50000 [==============================] - 1s 11us/sample - loss: 1.5343 - accuracy: 0.4641 - val_loss: 1.6797 - val_accuracy: 0.4167\n",
      "Epoch 25/50\n",
      "50000/50000 [==============================] - 1s 11us/sample - loss: 1.5250 - accuracy: 0.4692 - val_loss: 1.6741 - val_accuracy: 0.4187\n",
      "Epoch 26/50\n",
      "50000/50000 [==============================] - 1s 10us/sample - loss: 1.5156 - accuracy: 0.4713 - val_loss: 1.6683 - val_accuracy: 0.4195\n",
      "Epoch 27/50\n",
      "50000/50000 [==============================] - 1s 11us/sample - loss: 1.5069 - accuracy: 0.4743 - val_loss: 1.6637 - val_accuracy: 0.4203\n",
      "Epoch 28/50\n",
      "50000/50000 [==============================] - 1s 11us/sample - loss: 1.4985 - accuracy: 0.4781 - val_loss: 1.6572 - val_accuracy: 0.4215\n",
      "Epoch 29/50\n",
      "50000/50000 [==============================] - 1s 11us/sample - loss: 1.4900 - accuracy: 0.4805 - val_loss: 1.6542 - val_accuracy: 0.4216\n",
      "Epoch 30/50\n",
      "50000/50000 [==============================] - 1s 11us/sample - loss: 1.4824 - accuracy: 0.4834 - val_loss: 1.6490 - val_accuracy: 0.4248\n",
      "Epoch 31/50\n",
      "50000/50000 [==============================] - 1s 10us/sample - loss: 1.4747 - accuracy: 0.4853 - val_loss: 1.6441 - val_accuracy: 0.4242\n",
      "Epoch 32/50\n",
      "50000/50000 [==============================] - 1s 11us/sample - loss: 1.4671 - accuracy: 0.4902 - val_loss: 1.6403 - val_accuracy: 0.4234\n",
      "Epoch 33/50\n",
      "50000/50000 [==============================] - 1s 11us/sample - loss: 1.4598 - accuracy: 0.4910 - val_loss: 1.6368 - val_accuracy: 0.4258\n",
      "Epoch 34/50\n",
      "50000/50000 [==============================] - 1s 11us/sample - loss: 1.4533 - accuracy: 0.4932 - val_loss: 1.6321 - val_accuracy: 0.4273\n",
      "Epoch 35/50\n",
      "50000/50000 [==============================] - 1s 10us/sample - loss: 1.4461 - accuracy: 0.4971 - val_loss: 1.6277 - val_accuracy: 0.4281\n",
      "Epoch 36/50\n",
      "50000/50000 [==============================] - 1s 11us/sample - loss: 1.4381 - accuracy: 0.4982 - val_loss: 1.6235 - val_accuracy: 0.4298\n",
      "Epoch 37/50\n",
      "50000/50000 [==============================] - 1s 11us/sample - loss: 1.4323 - accuracy: 0.5012 - val_loss: 1.6207 - val_accuracy: 0.4312\n",
      "Epoch 38/50\n",
      "50000/50000 [==============================] - 1s 11us/sample - loss: 1.4255 - accuracy: 0.5021 - val_loss: 1.6174 - val_accuracy: 0.4339\n",
      "Epoch 39/50\n",
      "50000/50000 [==============================] - 1s 11us/sample - loss: 1.4188 - accuracy: 0.5048 - val_loss: 1.6147 - val_accuracy: 0.4321\n",
      "Epoch 40/50\n",
      "50000/50000 [==============================] - 1s 10us/sample - loss: 1.4132 - accuracy: 0.5077 - val_loss: 1.6117 - val_accuracy: 0.4350\n",
      "Epoch 41/50\n",
      "50000/50000 [==============================] - 1s 10us/sample - loss: 1.4065 - accuracy: 0.5109 - val_loss: 1.6086 - val_accuracy: 0.4344\n",
      "Epoch 42/50\n",
      "50000/50000 [==============================] - 1s 11us/sample - loss: 1.4008 - accuracy: 0.5122 - val_loss: 1.6043 - val_accuracy: 0.4363\n",
      "Epoch 43/50\n",
      "50000/50000 [==============================] - 1s 10us/sample - loss: 1.3949 - accuracy: 0.5143 - val_loss: 1.6032 - val_accuracy: 0.4359\n",
      "Epoch 44/50\n",
      "50000/50000 [==============================] - 1s 11us/sample - loss: 1.3899 - accuracy: 0.5164 - val_loss: 1.5978 - val_accuracy: 0.4367\n",
      "Epoch 45/50\n",
      "50000/50000 [==============================] - 1s 11us/sample - loss: 1.3835 - accuracy: 0.5190 - val_loss: 1.5979 - val_accuracy: 0.4393\n"
     ]
    },
    {
     "name": "stdout",
     "output_type": "stream",
     "text": [
      "Epoch 46/50\n",
      "50000/50000 [==============================] - 1s 11us/sample - loss: 1.3783 - accuracy: 0.5199 - val_loss: 1.5954 - val_accuracy: 0.4360\n",
      "Epoch 47/50\n",
      "50000/50000 [==============================] - 1s 11us/sample - loss: 1.3725 - accuracy: 0.5228 - val_loss: 1.5918 - val_accuracy: 0.4378\n",
      "Epoch 48/50\n",
      "50000/50000 [==============================] - 1s 11us/sample - loss: 1.3674 - accuracy: 0.5235 - val_loss: 1.5880 - val_accuracy: 0.4430\n",
      "Epoch 49/50\n",
      "50000/50000 [==============================] - 1s 10us/sample - loss: 1.3624 - accuracy: 0.5263 - val_loss: 1.5866 - val_accuracy: 0.4413\n",
      "Epoch 50/50\n",
      "50000/50000 [==============================] - 1s 11us/sample - loss: 1.3576 - accuracy: 0.5274 - val_loss: 1.5846 - val_accuracy: 0.4415\n"
     ]
    }
   ],
   "source": [
    "model = build_mlp(input_shape=x_train.shape[1:])\n",
    "model.summary()\n",
    "optimizer = keras.optimizers.SGD(lr=LEARNING_RATE, nesterov=True, momentum=MOMENTUM)\n",
    "model.compile(loss=\"categorical_crossentropy\", metrics=[\"accuracy\"], optimizer=optimizer)\n",
    "\n",
    "model.fit(x_train, y_train, \n",
    "          epochs=EPOCHS, \n",
    "          batch_size=BATCH_SIZE, \n",
    "          validation_data=(x_test, y_test), \n",
    "          shuffle=True)\n",
    "\n",
    "# Collect results\n",
    "train_loss = model.history.history[\"loss\"]\n",
    "valid_loss = model.history.history[\"val_loss\"]\n",
    "train_acc = model.history.history[\"accuracy\"]\n",
    "valid_acc = model.history.history[\"val_accuracy\"]"
   ]
  },
  {
   "cell_type": "code",
   "execution_count": 16,
   "metadata": {},
   "outputs": [
    {
     "data": {
      "image/png": "[encoded data removed]",
      "text/plain": [
       "<Figure size 432x288 with 1 Axes>"
      ]
     },
     "metadata": {
      "needs_background": "light"
     },
     "output_type": "display_data"
    },
    {
     "data": {
      "image/png": "[encoded data removed]",
      "text/plain": [
       "<Figure size 432x288 with 1 Axes>"
      ]
     },
     "metadata": {
      "needs_background": "light"
     },
     "output_type": "display_data"
    }
   ],
   "source": [
    "import matplotlib.pyplot as plt\n",
    "\n",
    "plt.plot(range(len(train_loss)), train_loss, label=\"train loss\")\n",
    "plt.plot(range(len(valid_loss)), valid_loss, label=\"valid loss\")\n",
    "plt.legend()\n",
    "plt.title(\"Loss\")\n",
    "plt.show()\n",
    "\n",
    "plt.plot(range(len(train_acc)), train_acc, label=\"train accuracy\")\n",
    "plt.plot(range(len(valid_acc)), valid_acc, label=\"valid accuracy\")\n",
    "plt.legend()\n",
    "plt.title(\"Accuracy\")\n",
    "plt.show()"
   ]
  },
  {
   "cell_type": "code",
   "execution_count": null,
   "metadata": {},
   "outputs": [],
   "source": []
  }
 ],
 "metadata": {
  "kernelspec": {
   "display_name": "Python 3",
   "language": "python",
   "name": "python3"
  },
  "language_info": {
   "codemirror_mode": {
    "name": "ipython",
    "version": 3
   },
   "file_extension": ".py",
   "mimetype": "text/x-python",
   "name": "python",
   "nbconvert_exporter": "python",
   "pygments_lexer": "ipython3",
   "version": "3.7.5"
  }
 },
 "nbformat": 4,
 "nbformat_minor": 2
}
