{
 "cells": [
  {
   "cell_type": "markdown",
   "metadata": {},
   "source": [
    "#### 1. \n",
    "    Generalization: To make model to be adaptive to new, unseen data. Thus, we have to avoid overfitting. To avoid overfitting, the model cannot be too complex.\n",
    "\n",
    "#### 2. \n",
    "    Regression: MSE, MAE, Huber loss/smooth MAE, log cosh loss, quantile loss\n",
    "    Classification: log loss, focal loss, KL divergence/relative entropy, exponential loss, Hinge loss"
   ]
  },
  {
   "cell_type": "code",
   "execution_count": null,
   "metadata": {},
   "outputs": [],
   "source": []
  }
 ],
 "metadata": {
  "kernelspec": {
   "display_name": "Python 3",
   "language": "python",
   "name": "python3"
  },
  "language_info": {
   "codemirror_mode": {
    "name": "ipython",
    "version": 3
   },
   "file_extension": ".py",
   "mimetype": "text/x-python",
   "name": "python",
   "nbconvert_exporter": "python",
   "pygments_lexer": "ipython3",
   "version": "3.7.3"
  }
 },
 "nbformat": 4,
 "nbformat_minor": 2
}
