{
 "cells": [
  {
   "cell_type": "code",
   "execution_count": 1,
   "metadata": {},
   "outputs": [],
   "source": [
    "import os\n",
    "import tensorflow as tf\n",
    "\n",
    "os.environ[\"CUDA_VISIBLE_DEVICES\"] = \"0\""
   ]
  },
  {
   "cell_type": "code",
   "execution_count": 2,
   "metadata": {},
   "outputs": [],
   "source": [
    "train, test = tf.keras.datasets.cifar10.load_data()"
   ]
  },
  {
   "cell_type": "code",
   "execution_count": 3,
   "metadata": {},
   "outputs": [],
   "source": [
    "## data preprocessing\n",
    "def preproc_x(x, flatten=True):\n",
    "    x = 2 * ((x-x.min()) / (x.max()-x.min())) - 1\n",
    "    if flatten:\n",
    "        x = x.reshape((len(x), -1))\n",
    "    return x\n",
    "\n",
    "def preproc_y(y, num_classes=10):\n",
    "    if y.shape[-1] == 1:\n",
    "        y = tf.keras.utils.to_categorical(y, num_classes)\n",
    "    return y    "
   ]
  },
  {
   "cell_type": "code",
   "execution_count": 4,
   "metadata": {},
   "outputs": [],
   "source": [
    "x_train, y_train = train\n",
    "x_test, y_test = test\n",
    "\n",
    "# Preproc the inputs\n",
    "x_train = preproc_x(x_train)\n",
    "x_test = preproc_x(x_test)\n",
    "\n",
    "# Preprc the outputs\n",
    "y_train = preproc_y(y_train)\n",
    "y_test = preproc_y(y_test)"
   ]
  },
  {
   "cell_type": "code",
   "execution_count": 5,
   "metadata": {},
   "outputs": [],
   "source": [
    "def build_mlp(input_shape, output_units=10, num_neurons=[512, 512, 256, 256, 128, 128, 64, 64, 32, 32]):\n",
    "    input_layer = tf.keras.layers.Input(input_shape)\n",
    "    \n",
    "    for i, n_units in enumerate(num_neurons):\n",
    "        if i == 0:\n",
    "            x = tf.keras.layers.Dense(units=n_units, activation=\"relu\", name=\"hidden_layer\"+str(i+1))(input_layer)\n",
    "        else:\n",
    "            x = tf.keras.layers.Dense(units=n_units, activation=\"relu\", name=\"hidden_layer\"+str(i+1))(x)\n",
    "    \n",
    "    out = tf.keras.layers.Dense(units=output_units, activation=\"softmax\", name=\"output\")(x)\n",
    "    \n",
    "    model = tf.keras.models.Model(inputs=[input_layer], outputs=[out])\n",
    "    return model"
   ]
  },
  {
   "cell_type": "code",
   "execution_count": 6,
   "metadata": {},
   "outputs": [
    {
     "name": "stdout",
     "output_type": "stream",
     "text": [
      "Model: \"model\"\n",
      "_________________________________________________________________\n",
      "Layer (type)                 Output Shape              Param #   \n",
      "=================================================================\n",
      "input_1 (InputLayer)         [(None, 3072)]            0         \n",
      "_________________________________________________________________\n",
      "hidden_layer1 (Dense)        (None, 512)               1573376   \n",
      "_________________________________________________________________\n",
      "hidden_layer2 (Dense)        (None, 512)               262656    \n",
      "_________________________________________________________________\n",
      "hidden_layer3 (Dense)        (None, 256)               131328    \n",
      "_________________________________________________________________\n",
      "hidden_layer4 (Dense)        (None, 256)               65792     \n",
      "_________________________________________________________________\n",
      "hidden_layer5 (Dense)        (None, 128)               32896     \n",
      "_________________________________________________________________\n",
      "hidden_layer6 (Dense)        (None, 128)               16512     \n",
      "_________________________________________________________________\n",
      "hidden_layer7 (Dense)        (None, 64)                8256      \n",
      "_________________________________________________________________\n",
      "hidden_layer8 (Dense)        (None, 64)                4160      \n",
      "_________________________________________________________________\n",
      "hidden_layer9 (Dense)        (None, 32)                2080      \n",
      "_________________________________________________________________\n",
      "hidden_layer10 (Dense)       (None, 32)                1056      \n",
      "_________________________________________________________________\n",
      "output (Dense)               (None, 10)                330       \n",
      "=================================================================\n",
      "Total params: 2,098,442\n",
      "Trainable params: 2,098,442\n",
      "Non-trainable params: 0\n",
      "_________________________________________________________________\n"
     ]
    }
   ],
   "source": [
    "model = build_mlp(input_shape=x_train.shape[1:])\n",
    "model.summary()"
   ]
  },
  {
   "cell_type": "code",
   "execution_count": 7,
   "metadata": {},
   "outputs": [],
   "source": [
    "LEARNING_RATE = 0.001\n",
    "EPOCHS = 100\n",
    "BATCH_SIZE = 256"
   ]
  },
  {
   "cell_type": "code",
   "execution_count": 8,
   "metadata": {},
   "outputs": [],
   "source": [
    "optimizer = tf.keras.optimizers.Adam(lr=LEARNING_RATE)\n",
    "model.compile(loss=\"categorical_crossentropy\", metrics=[\"accuracy\"], optimizer=optimizer)"
   ]
  },
  {
   "cell_type": "code",
   "execution_count": 9,
   "metadata": {},
   "outputs": [
    {
     "name": "stdout",
     "output_type": "stream",
     "text": [
      "Train on 50000 samples, validate on 10000 samples\n",
      "Epoch 1/100\n",
      "50000/50000 [==============================] - 2s 35us/sample - loss: 1.8218 - accuracy: 0.3435 - val_loss: 1.6478 - val_accuracy: 0.4144\n",
      "Epoch 2/100\n",
      "50000/50000 [==============================] - 1s 18us/sample - loss: 1.5575 - accuracy: 0.4465 - val_loss: 1.5198 - val_accuracy: 0.4660\n",
      "Epoch 3/100\n",
      "50000/50000 [==============================] - 1s 19us/sample - loss: 1.4231 - accuracy: 0.4979 - val_loss: 1.4431 - val_accuracy: 0.4910\n",
      "Epoch 4/100\n",
      "50000/50000 [==============================] - 1s 19us/sample - loss: 1.3214 - accuracy: 0.5342 - val_loss: 1.3787 - val_accuracy: 0.5167\n",
      "Epoch 5/100\n",
      "50000/50000 [==============================] - 1s 19us/sample - loss: 1.2343 - accuracy: 0.5668 - val_loss: 1.3768 - val_accuracy: 0.5251\n",
      "Epoch 6/100\n",
      "50000/50000 [==============================] - 1s 19us/sample - loss: 1.1528 - accuracy: 0.5952 - val_loss: 1.4096 - val_accuracy: 0.5169\n",
      "Epoch 7/100\n",
      "50000/50000 [==============================] - 1s 19us/sample - loss: 1.0707 - accuracy: 0.6255 - val_loss: 1.3587 - val_accuracy: 0.5364\n",
      "Epoch 8/100\n",
      "50000/50000 [==============================] - 1s 19us/sample - loss: 0.9983 - accuracy: 0.6483 - val_loss: 1.3947 - val_accuracy: 0.5289\n",
      "Epoch 9/100\n",
      "50000/50000 [==============================] - 1s 19us/sample - loss: 0.9284 - accuracy: 0.6737 - val_loss: 1.4241 - val_accuracy: 0.5317\n",
      "Epoch 10/100\n",
      "50000/50000 [==============================] - 1s 19us/sample - loss: 0.8551 - accuracy: 0.7007 - val_loss: 1.4426 - val_accuracy: 0.5457\n",
      "Epoch 11/100\n",
      "50000/50000 [==============================] - 1s 19us/sample - loss: 0.7822 - accuracy: 0.7246 - val_loss: 1.4615 - val_accuracy: 0.5432\n",
      "Epoch 12/100\n",
      "50000/50000 [==============================] - 1s 19us/sample - loss: 0.7156 - accuracy: 0.7470 - val_loss: 1.5452 - val_accuracy: 0.5390\n",
      "Epoch 13/100\n",
      "50000/50000 [==============================] - 1s 19us/sample - loss: 0.6511 - accuracy: 0.7709 - val_loss: 1.6395 - val_accuracy: 0.5454\n",
      "Epoch 14/100\n",
      "50000/50000 [==============================] - 1s 19us/sample - loss: 0.5884 - accuracy: 0.7927 - val_loss: 1.7185 - val_accuracy: 0.5401\n",
      "Epoch 15/100\n",
      "50000/50000 [==============================] - 1s 19us/sample - loss: 0.5477 - accuracy: 0.8077 - val_loss: 1.7272 - val_accuracy: 0.5449\n",
      "Epoch 16/100\n",
      "50000/50000 [==============================] - 1s 19us/sample - loss: 0.5023 - accuracy: 0.8248 - val_loss: 1.8593 - val_accuracy: 0.5389\n",
      "Epoch 17/100\n",
      "50000/50000 [==============================] - 1s 19us/sample - loss: 0.4497 - accuracy: 0.8409 - val_loss: 1.8524 - val_accuracy: 0.5363\n",
      "Epoch 18/100\n",
      "50000/50000 [==============================] - 1s 19us/sample - loss: 0.4202 - accuracy: 0.8536 - val_loss: 2.0185 - val_accuracy: 0.5389\n",
      "Epoch 19/100\n",
      "50000/50000 [==============================] - 1s 19us/sample - loss: 0.3816 - accuracy: 0.8680 - val_loss: 2.0296 - val_accuracy: 0.5348\n",
      "Epoch 20/100\n",
      "50000/50000 [==============================] - 1s 19us/sample - loss: 0.3495 - accuracy: 0.8794 - val_loss: 2.1397 - val_accuracy: 0.5438\n",
      "Epoch 21/100\n",
      "50000/50000 [==============================] - 1s 19us/sample - loss: 0.3124 - accuracy: 0.8939 - val_loss: 2.2576 - val_accuracy: 0.5451\n",
      "Epoch 22/100\n",
      "50000/50000 [==============================] - 1s 19us/sample - loss: 0.2964 - accuracy: 0.8986 - val_loss: 2.2903 - val_accuracy: 0.5339\n",
      "Epoch 23/100\n",
      "50000/50000 [==============================] - 1s 19us/sample - loss: 0.2733 - accuracy: 0.9062 - val_loss: 2.3897 - val_accuracy: 0.5333\n",
      "Epoch 24/100\n",
      "50000/50000 [==============================] - 1s 19us/sample - loss: 0.2543 - accuracy: 0.9143 - val_loss: 2.5208 - val_accuracy: 0.5382\n",
      "Epoch 25/100\n",
      "50000/50000 [==============================] - 1s 19us/sample - loss: 0.2402 - accuracy: 0.9180 - val_loss: 2.4145 - val_accuracy: 0.5351\n",
      "Epoch 26/100\n",
      "50000/50000 [==============================] - 1s 19us/sample - loss: 0.2141 - accuracy: 0.9273 - val_loss: 2.5881 - val_accuracy: 0.5364\n",
      "Epoch 27/100\n",
      "50000/50000 [==============================] - 1s 19us/sample - loss: 0.2148 - accuracy: 0.9269 - val_loss: 2.4816 - val_accuracy: 0.5359\n",
      "Epoch 28/100\n",
      "50000/50000 [==============================] - 1s 19us/sample - loss: 0.2039 - accuracy: 0.9314 - val_loss: 2.5315 - val_accuracy: 0.5444\n",
      "Epoch 29/100\n",
      "50000/50000 [==============================] - 1s 19us/sample - loss: 0.1882 - accuracy: 0.9365 - val_loss: 2.6215 - val_accuracy: 0.5358\n",
      "Epoch 30/100\n",
      "50000/50000 [==============================] - 1s 19us/sample - loss: 0.1764 - accuracy: 0.9397 - val_loss: 2.6839 - val_accuracy: 0.5376\n",
      "Epoch 31/100\n",
      "50000/50000 [==============================] - 1s 18us/sample - loss: 0.1616 - accuracy: 0.9461 - val_loss: 2.8164 - val_accuracy: 0.5352\n",
      "Epoch 32/100\n",
      "50000/50000 [==============================] - 1s 19us/sample - loss: 0.1604 - accuracy: 0.9459 - val_loss: 2.8567 - val_accuracy: 0.5325\n",
      "Epoch 33/100\n",
      "50000/50000 [==============================] - 1s 19us/sample - loss: 0.1597 - accuracy: 0.9471 - val_loss: 2.9111 - val_accuracy: 0.5411\n",
      "Epoch 34/100\n",
      "50000/50000 [==============================] - 1s 19us/sample - loss: 0.1503 - accuracy: 0.9502 - val_loss: 2.8195 - val_accuracy: 0.5411\n",
      "Epoch 35/100\n",
      "50000/50000 [==============================] - 1s 18us/sample - loss: 0.1464 - accuracy: 0.9515 - val_loss: 2.8872 - val_accuracy: 0.5339\n",
      "Epoch 36/100\n",
      "50000/50000 [==============================] - 1s 19us/sample - loss: 0.1326 - accuracy: 0.9563 - val_loss: 2.8826 - val_accuracy: 0.5388\n",
      "Epoch 37/100\n",
      "50000/50000 [==============================] - 1s 19us/sample - loss: 0.1286 - accuracy: 0.9578 - val_loss: 2.9374 - val_accuracy: 0.5397\n",
      "Epoch 38/100\n",
      "50000/50000 [==============================] - 1s 19us/sample - loss: 0.1383 - accuracy: 0.9548 - val_loss: 2.8506 - val_accuracy: 0.5349\n",
      "Epoch 39/100\n",
      "50000/50000 [==============================] - 1s 18us/sample - loss: 0.1215 - accuracy: 0.9591 - val_loss: 3.0186 - val_accuracy: 0.5267\n",
      "Epoch 40/100\n",
      "50000/50000 [==============================] - 1s 19us/sample - loss: 0.1269 - accuracy: 0.9586 - val_loss: 2.8713 - val_accuracy: 0.5438\n",
      "Epoch 41/100\n",
      "50000/50000 [==============================] - 1s 19us/sample - loss: 0.1120 - accuracy: 0.9637 - val_loss: 3.0035 - val_accuracy: 0.5331\n",
      "Epoch 42/100\n",
      "50000/50000 [==============================] - 1s 19us/sample - loss: 0.1186 - accuracy: 0.9614 - val_loss: 3.1646 - val_accuracy: 0.5326\n",
      "Epoch 43/100\n",
      "50000/50000 [==============================] - 1s 19us/sample - loss: 0.1077 - accuracy: 0.9652 - val_loss: 3.0249 - val_accuracy: 0.5373\n",
      "Epoch 44/100\n",
      "50000/50000 [==============================] - 1s 19us/sample - loss: 0.1016 - accuracy: 0.9672 - val_loss: 3.1097 - val_accuracy: 0.5366\n",
      "Epoch 45/100\n",
      "50000/50000 [==============================] - 1s 19us/sample - loss: 0.1134 - accuracy: 0.9633 - val_loss: 2.8247 - val_accuracy: 0.5373\n",
      "Epoch 46/100\n",
      "50000/50000 [==============================] - 1s 19us/sample - loss: 0.1071 - accuracy: 0.9651 - val_loss: 3.1603 - val_accuracy: 0.5368\n",
      "Epoch 47/100\n",
      "50000/50000 [==============================] - 1s 19us/sample - loss: 0.1028 - accuracy: 0.9676 - val_loss: 3.0674 - val_accuracy: 0.5386\n",
      "Epoch 48/100\n",
      "50000/50000 [==============================] - 1s 19us/sample - loss: 0.0956 - accuracy: 0.9692 - val_loss: 2.9671 - val_accuracy: 0.5355\n",
      "Epoch 49/100\n",
      "50000/50000 [==============================] - 1s 19us/sample - loss: 0.0982 - accuracy: 0.9678 - val_loss: 3.1351 - val_accuracy: 0.5422\n",
      "Epoch 50/100\n",
      "50000/50000 [==============================] - 1s 19us/sample - loss: 0.0995 - accuracy: 0.9679 - val_loss: 3.1366 - val_accuracy: 0.5342\n",
      "Epoch 51/100\n",
      "50000/50000 [==============================] - 1s 18us/sample - loss: 0.0991 - accuracy: 0.9687 - val_loss: 3.1665 - val_accuracy: 0.5376\n",
      "Epoch 52/100\n",
      "50000/50000 [==============================] - 1s 19us/sample - loss: 0.0924 - accuracy: 0.9702 - val_loss: 3.1036 - val_accuracy: 0.5369\n",
      "Epoch 53/100\n",
      "50000/50000 [==============================] - 1s 19us/sample - loss: 0.0853 - accuracy: 0.9727 - val_loss: 3.2296 - val_accuracy: 0.5413\n",
      "Epoch 54/100\n",
      "50000/50000 [==============================] - 1s 19us/sample - loss: 0.0754 - accuracy: 0.9753 - val_loss: 3.2433 - val_accuracy: 0.5385\n"
     ]
    },
    {
     "name": "stdout",
     "output_type": "stream",
     "text": [
      "Epoch 55/100\n",
      "50000/50000 [==============================] - 1s 19us/sample - loss: 0.0940 - accuracy: 0.9695 - val_loss: 3.1151 - val_accuracy: 0.5362\n",
      "Epoch 56/100\n",
      "50000/50000 [==============================] - 1s 19us/sample - loss: 0.0853 - accuracy: 0.9727 - val_loss: 3.2228 - val_accuracy: 0.5423\n",
      "Epoch 57/100\n",
      "50000/50000 [==============================] - 1s 19us/sample - loss: 0.0902 - accuracy: 0.9710 - val_loss: 3.3524 - val_accuracy: 0.5447\n",
      "Epoch 58/100\n",
      "50000/50000 [==============================] - 1s 19us/sample - loss: 0.0774 - accuracy: 0.9746 - val_loss: 3.0972 - val_accuracy: 0.5297\n",
      "Epoch 59/100\n",
      "50000/50000 [==============================] - 1s 19us/sample - loss: 0.0826 - accuracy: 0.9743 - val_loss: 2.8986 - val_accuracy: 0.5314\n",
      "Epoch 60/100\n",
      "50000/50000 [==============================] - 1s 18us/sample - loss: 0.0850 - accuracy: 0.9729 - val_loss: 3.0070 - val_accuracy: 0.5343\n",
      "Epoch 61/100\n",
      "50000/50000 [==============================] - 1s 19us/sample - loss: 0.0767 - accuracy: 0.9755 - val_loss: 3.1691 - val_accuracy: 0.5403\n",
      "Epoch 62/100\n",
      "50000/50000 [==============================] - 1s 19us/sample - loss: 0.0836 - accuracy: 0.9732 - val_loss: 3.1239 - val_accuracy: 0.5346\n",
      "Epoch 63/100\n",
      "50000/50000 [==============================] - 1s 18us/sample - loss: 0.0757 - accuracy: 0.9765 - val_loss: 3.0273 - val_accuracy: 0.5350\n",
      "Epoch 64/100\n",
      "50000/50000 [==============================] - 1s 19us/sample - loss: 0.0852 - accuracy: 0.9727 - val_loss: 3.1107 - val_accuracy: 0.5345\n",
      "Epoch 65/100\n",
      "50000/50000 [==============================] - 1s 19us/sample - loss: 0.0743 - accuracy: 0.9767 - val_loss: 3.2359 - val_accuracy: 0.5371\n",
      "Epoch 66/100\n",
      "50000/50000 [==============================] - 1s 19us/sample - loss: 0.0716 - accuracy: 0.9779 - val_loss: 3.1787 - val_accuracy: 0.5350\n",
      "Epoch 67/100\n",
      "50000/50000 [==============================] - 1s 18us/sample - loss: 0.0751 - accuracy: 0.9764 - val_loss: 3.2105 - val_accuracy: 0.5365\n",
      "Epoch 68/100\n",
      "50000/50000 [==============================] - 1s 19us/sample - loss: 0.0686 - accuracy: 0.9779 - val_loss: 3.3176 - val_accuracy: 0.5393\n",
      "Epoch 69/100\n",
      "50000/50000 [==============================] - 1s 19us/sample - loss: 0.0662 - accuracy: 0.9789 - val_loss: 3.2612 - val_accuracy: 0.5389\n",
      "Epoch 70/100\n",
      "50000/50000 [==============================] - 1s 19us/sample - loss: 0.0690 - accuracy: 0.9777 - val_loss: 3.3084 - val_accuracy: 0.5396\n",
      "Epoch 71/100\n",
      "50000/50000 [==============================] - 1s 18us/sample - loss: 0.0756 - accuracy: 0.9763 - val_loss: 3.0423 - val_accuracy: 0.5381\n",
      "Epoch 72/100\n",
      "50000/50000 [==============================] - 1s 19us/sample - loss: 0.0638 - accuracy: 0.9799 - val_loss: 3.4075 - val_accuracy: 0.5351\n",
      "Epoch 73/100\n",
      "50000/50000 [==============================] - 1s 19us/sample - loss: 0.0742 - accuracy: 0.9784 - val_loss: 3.3365 - val_accuracy: 0.5334\n",
      "Epoch 74/100\n",
      "50000/50000 [==============================] - 1s 19us/sample - loss: 0.0745 - accuracy: 0.9772 - val_loss: 3.1573 - val_accuracy: 0.5412\n",
      "Epoch 75/100\n",
      "50000/50000 [==============================] - 1s 19us/sample - loss: 0.0716 - accuracy: 0.9784 - val_loss: 3.2038 - val_accuracy: 0.5397\n",
      "Epoch 76/100\n",
      "50000/50000 [==============================] - 1s 19us/sample - loss: 0.0638 - accuracy: 0.9805 - val_loss: 3.1234 - val_accuracy: 0.5414\n",
      "Epoch 77/100\n",
      "50000/50000 [==============================] - 1s 19us/sample - loss: 0.0602 - accuracy: 0.9810 - val_loss: 3.1254 - val_accuracy: 0.5375\n",
      "Epoch 78/100\n",
      "50000/50000 [==============================] - 1s 19us/sample - loss: 0.0583 - accuracy: 0.9819 - val_loss: 3.4576 - val_accuracy: 0.5383\n",
      "Epoch 79/100\n",
      "50000/50000 [==============================] - 1s 18us/sample - loss: 0.0635 - accuracy: 0.9804 - val_loss: 3.1407 - val_accuracy: 0.5411\n",
      "Epoch 80/100\n",
      "50000/50000 [==============================] - 1s 19us/sample - loss: 0.0748 - accuracy: 0.9769 - val_loss: 3.3217 - val_accuracy: 0.5414\n",
      "Epoch 81/100\n",
      "50000/50000 [==============================] - 1s 19us/sample - loss: 0.0642 - accuracy: 0.9806 - val_loss: 3.2410 - val_accuracy: 0.5413\n",
      "Epoch 82/100\n",
      "50000/50000 [==============================] - 1s 19us/sample - loss: 0.0603 - accuracy: 0.9815 - val_loss: 3.3550 - val_accuracy: 0.5435\n",
      "Epoch 83/100\n",
      "50000/50000 [==============================] - 1s 19us/sample - loss: 0.0605 - accuracy: 0.9811 - val_loss: 3.2113 - val_accuracy: 0.5397\n",
      "Epoch 84/100\n",
      "50000/50000 [==============================] - 1s 19us/sample - loss: 0.0614 - accuracy: 0.9808 - val_loss: 3.2665 - val_accuracy: 0.5355\n",
      "Epoch 85/100\n",
      "50000/50000 [==============================] - 1s 19us/sample - loss: 0.0588 - accuracy: 0.9820 - val_loss: 3.3614 - val_accuracy: 0.5436\n",
      "Epoch 86/100\n",
      "50000/50000 [==============================] - 1s 19us/sample - loss: 0.0528 - accuracy: 0.9834 - val_loss: 3.3560 - val_accuracy: 0.5423\n",
      "Epoch 87/100\n",
      "50000/50000 [==============================] - 1s 19us/sample - loss: 0.0492 - accuracy: 0.9846 - val_loss: 3.6234 - val_accuracy: 0.5372\n",
      "Epoch 88/100\n",
      "50000/50000 [==============================] - 1s 19us/sample - loss: 0.0619 - accuracy: 0.9810 - val_loss: 3.4433 - val_accuracy: 0.5418\n",
      "Epoch 89/100\n",
      "50000/50000 [==============================] - 1s 19us/sample - loss: 0.0581 - accuracy: 0.9822 - val_loss: 3.1435 - val_accuracy: 0.5391\n",
      "Epoch 90/100\n",
      "50000/50000 [==============================] - 1s 19us/sample - loss: 0.0536 - accuracy: 0.9839 - val_loss: 3.4525 - val_accuracy: 0.5381\n",
      "Epoch 91/100\n",
      "50000/50000 [==============================] - 1s 19us/sample - loss: 0.0632 - accuracy: 0.9807 - val_loss: 3.2411 - val_accuracy: 0.5327\n",
      "Epoch 92/100\n",
      "50000/50000 [==============================] - 1s 19us/sample - loss: 0.0537 - accuracy: 0.9837 - val_loss: 3.6894 - val_accuracy: 0.5380\n",
      "Epoch 93/100\n",
      "50000/50000 [==============================] - 1s 19us/sample - loss: 0.0686 - accuracy: 0.9779 - val_loss: 3.2785 - val_accuracy: 0.5328\n",
      "Epoch 94/100\n",
      "50000/50000 [==============================] - 1s 19us/sample - loss: 0.0562 - accuracy: 0.9822 - val_loss: 3.3139 - val_accuracy: 0.5417\n",
      "Epoch 95/100\n",
      "50000/50000 [==============================] - 1s 19us/sample - loss: 0.0627 - accuracy: 0.9810 - val_loss: 3.3632 - val_accuracy: 0.5404\n",
      "Epoch 96/100\n",
      "50000/50000 [==============================] - 1s 21us/sample - loss: 0.0479 - accuracy: 0.9855 - val_loss: 3.5627 - val_accuracy: 0.5401\n",
      "Epoch 97/100\n",
      "50000/50000 [==============================] - 1s 21us/sample - loss: 0.0426 - accuracy: 0.9872 - val_loss: 3.4775 - val_accuracy: 0.5368\n",
      "Epoch 98/100\n",
      "50000/50000 [==============================] - 1s 21us/sample - loss: 0.0439 - accuracy: 0.9864 - val_loss: 3.4963 - val_accuracy: 0.5417\n",
      "Epoch 99/100\n",
      "50000/50000 [==============================] - 1s 20us/sample - loss: 0.0556 - accuracy: 0.9834 - val_loss: 3.4022 - val_accuracy: 0.5406\n",
      "Epoch 100/100\n",
      "50000/50000 [==============================] - 1s 20us/sample - loss: 0.0551 - accuracy: 0.9835 - val_loss: 3.2987 - val_accuracy: 0.5397\n"
     ]
    },
    {
     "data": {
      "text/plain": [
       "<tensorflow.python.keras.callbacks.History at 0x7f54b448e050>"
      ]
     },
     "execution_count": 9,
     "metadata": {},
     "output_type": "execute_result"
    }
   ],
   "source": [
    "model.fit(x_train, y_train, \n",
    "          epochs=EPOCHS, \n",
    "          batch_size=BATCH_SIZE, \n",
    "          validation_data=(x_test, y_test), \n",
    "          shuffle=True)"
   ]
  },
  {
   "cell_type": "code",
   "execution_count": 11,
   "metadata": {},
   "outputs": [
    {
     "data": {
      "image/png": "[encoded data removed]",
      "text/plain": [
       "<Figure size 432x288 with 1 Axes>"
      ]
     },
     "metadata": {
      "needs_background": "light"
     },
     "output_type": "display_data"
    },
    {
     "data": {
      "image/png": "[encoded data removed]",
      "text/plain": [
       "<Figure size 432x288 with 1 Axes>"
      ]
     },
     "metadata": {
      "needs_background": "light"
     },
     "output_type": "display_data"
    }
   ],
   "source": [
    "import matplotlib.pyplot as plt\n",
    "\n",
    "train_loss = model.history.history[\"loss\"]\n",
    "valid_loss = model.history.history[\"val_loss\"]\n",
    "\n",
    "train_acc = model.history.history[\"accuracy\"]\n",
    "valid_acc = model.history.history[\"val_accuracy\"]\n",
    "\n",
    "plt.plot(range(len(train_loss)), train_loss, label=\"train loss\")\n",
    "plt.plot(range(len(valid_loss)), valid_loss, label=\"valid loss\")\n",
    "plt.legend()\n",
    "plt.title(\"Loss\")\n",
    "plt.show()\n",
    "\n",
    "plt.plot(range(len(train_acc)), train_acc, label=\"train accuracy\")\n",
    "plt.plot(range(len(valid_acc)), valid_acc, label=\"valid accuracy\")\n",
    "plt.legend()\n",
    "plt.title(\"Accuracy\")\n",
    "plt.show()"
   ]
  },
  {
   "cell_type": "code",
   "execution_count": null,
   "metadata": {},
   "outputs": [],
   "source": []
  }
 ],
 "metadata": {
  "kernelspec": {
   "display_name": "Python 3",
   "language": "python",
   "name": "python3"
  },
  "language_info": {
   "codemirror_mode": {
    "name": "ipython",
    "version": 3
   },
   "file_extension": ".py",
   "mimetype": "text/x-python",
   "name": "python",
   "nbconvert_exporter": "python",
   "pygments_lexer": "ipython3",
   "version": "3.7.5"
  }
 },
 "nbformat": 4,
 "nbformat_minor": 2
}
