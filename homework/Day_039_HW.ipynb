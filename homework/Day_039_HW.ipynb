{
 "cells": [
  {
   "cell_type": "markdown",
   "metadata": {},
   "source": [
    "1. LASSO add L1 penalties to regression coefficients, which is sparse. This regularization method can makes its parameters approaches to zero. Thus, LASSO can also be a method for feature selection.\n",
    "\n",
    "2. Ridge regression can deal with highly collinearity. It use the L2-norm penalties on regression coefficients. Whenever a tiny change of a variables makes its coefficient increases a lot, the L2-norm deducts back the change."
   ]
  },
  {
   "cell_type": "code",
   "execution_count": null,
   "metadata": {},
   "outputs": [],
   "source": []
  }
 ],
 "metadata": {
  "kernelspec": {
   "display_name": "Python 3",
   "language": "python",
   "name": "python3"
  },
  "language_info": {
   "codemirror_mode": {
    "name": "ipython",
    "version": 3
   },
   "file_extension": ".py",
   "mimetype": "text/x-python",
   "name": "python",
   "nbconvert_exporter": "python",
   "pygments_lexer": "ipython3",
   "version": "3.7.3"
  }
 },
 "nbformat": 4,
 "nbformat_minor": 2
}
