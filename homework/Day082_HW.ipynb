{
 "cells": [
  {
   "cell_type": "code",
   "execution_count": 1,
   "metadata": {},
   "outputs": [],
   "source": [
    "import os\n",
    "import tensorflow.keras as keras\n",
    "import itertools\n",
    "\n",
    "os.environ[\"CUDA_VISIBLE_DEVICES\"] = \"0\""
   ]
  },
  {
   "cell_type": "code",
   "execution_count": 2,
   "metadata": {},
   "outputs": [],
   "source": [
    "train, test = keras.datasets.cifar10.load_data()"
   ]
  },
  {
   "cell_type": "code",
   "execution_count": 3,
   "metadata": {},
   "outputs": [],
   "source": [
    "def preproc_x(x, flatten=True):\n",
    "    x = x / 255.\n",
    "    if flatten:\n",
    "        x = x.reshape((len(x), -1))\n",
    "    return x\n",
    "\n",
    "def preproc_y(y, num_classes=10):\n",
    "    if y.shape[-1] == 1:\n",
    "        y = keras.utils.to_categorical(y, num_classes)\n",
    "    return y"
   ]
  },
  {
   "cell_type": "code",
   "execution_count": 4,
   "metadata": {},
   "outputs": [],
   "source": [
    "x_train, y_train = train\n",
    "x_test, y_test = test\n",
    "\n",
    "# Preproc the inputs\n",
    "x_train = preproc_x(x_train)\n",
    "x_test = preproc_x(x_test)\n",
    "\n",
    "# Preprc the outputs\n",
    "y_train = preproc_y(y_train)\n",
    "y_test = preproc_y(y_test)"
   ]
  },
  {
   "cell_type": "code",
   "execution_count": 5,
   "metadata": {},
   "outputs": [],
   "source": [
    "from tensorflow.keras.layers import Dropout"
   ]
  },
  {
   "cell_type": "code",
   "execution_count": 6,
   "metadata": {},
   "outputs": [],
   "source": [
    "def build_mlp(input_shape, output_units=10, num_neurons=[512, 256, 128, 64, 32], drp_ratio=0.2):\n",
    "    input_layer = keras.layers.Input(input_shape)\n",
    "    \n",
    "    for i, n_units in enumerate(num_neurons):\n",
    "        if i == 0:\n",
    "            x = keras.layers.Dense(units=n_units, \n",
    "                                   activation=\"relu\", \n",
    "                                   name=\"hidden_layer\"+str(i+1))(input_layer)\n",
    "            x = Dropout(drp_ratio)(x)\n",
    "        else:\n",
    "            x = keras.layers.Dense(units=n_units, \n",
    "                                   activation=\"relu\", \n",
    "                                   name=\"hidden_layer\"+str(i+1))(x)\n",
    "            x = Dropout(drp_ratio)(x)\n",
    "    \n",
    "    out = keras.layers.Dense(units=output_units, activation=\"softmax\", name=\"output\")(x)\n",
    "    \n",
    "    model = keras.models.Model(inputs=[input_layer], outputs=[out])\n",
    "    return model"
   ]
  },
  {
   "cell_type": "code",
   "execution_count": 7,
   "metadata": {},
   "outputs": [],
   "source": [
    "LEARNING_RATE = 1e-3\n",
    "EPOCHS = 50\n",
    "BATCH_SIZE = 256\n",
    "MOMENTUM = 0.95\n",
    "Dropout_EXP = 0.2"
   ]
  },
  {
   "cell_type": "code",
   "execution_count": 8,
   "metadata": {},
   "outputs": [
    {
     "name": "stdout",
     "output_type": "stream",
     "text": [
      "Model: \"model\"\n",
      "_________________________________________________________________\n",
      "Layer (type)                 Output Shape              Param #   \n",
      "=================================================================\n",
      "input_1 (InputLayer)         [(None, 3072)]            0         \n",
      "_________________________________________________________________\n",
      "hidden_layer1 (Dense)        (None, 512)               1573376   \n",
      "_________________________________________________________________\n",
      "dropout (Dropout)            (None, 512)               0         \n",
      "_________________________________________________________________\n",
      "hidden_layer2 (Dense)        (None, 256)               131328    \n",
      "_________________________________________________________________\n",
      "dropout_1 (Dropout)          (None, 256)               0         \n",
      "_________________________________________________________________\n",
      "hidden_layer3 (Dense)        (None, 128)               32896     \n",
      "_________________________________________________________________\n",
      "dropout_2 (Dropout)          (None, 128)               0         \n",
      "_________________________________________________________________\n",
      "hidden_layer4 (Dense)        (None, 64)                8256      \n",
      "_________________________________________________________________\n",
      "dropout_3 (Dropout)          (None, 64)                0         \n",
      "_________________________________________________________________\n",
      "hidden_layer5 (Dense)        (None, 32)                2080      \n",
      "_________________________________________________________________\n",
      "dropout_4 (Dropout)          (None, 32)                0         \n",
      "_________________________________________________________________\n",
      "output (Dense)               (None, 10)                330       \n",
      "=================================================================\n",
      "Total params: 1,748,266\n",
      "Trainable params: 1,748,266\n",
      "Non-trainable params: 0\n",
      "_________________________________________________________________\n",
      "Train on 50000 samples, validate on 10000 samples\n",
      "Epoch 1/50\n",
      "50000/50000 [==============================] - 2s 31us/sample - loss: 2.2880 - accuracy: 0.1301 - val_loss: 2.1872 - val_accuracy: 0.2105\n",
      "Epoch 2/50\n",
      "50000/50000 [==============================] - 1s 17us/sample - loss: 2.1759 - accuracy: 0.1897 - val_loss: 2.0552 - val_accuracy: 0.2819\n",
      "Epoch 3/50\n",
      "50000/50000 [==============================] - 1s 17us/sample - loss: 2.0804 - accuracy: 0.2284 - val_loss: 1.9549 - val_accuracy: 0.3129\n",
      "Epoch 4/50\n",
      "50000/50000 [==============================] - 1s 16us/sample - loss: 2.0165 - accuracy: 0.2532 - val_loss: 1.8937 - val_accuracy: 0.3290\n",
      "Epoch 5/50\n",
      "50000/50000 [==============================] - 1s 17us/sample - loss: 1.9707 - accuracy: 0.2711 - val_loss: 1.8420 - val_accuracy: 0.3519\n",
      "Epoch 6/50\n",
      "50000/50000 [==============================] - 1s 17us/sample - loss: 1.9364 - accuracy: 0.2858 - val_loss: 1.8070 - val_accuracy: 0.3655\n",
      "Epoch 7/50\n",
      "50000/50000 [==============================] - 1s 17us/sample - loss: 1.9027 - accuracy: 0.3027 - val_loss: 1.7770 - val_accuracy: 0.3715\n",
      "Epoch 8/50\n",
      "50000/50000 [==============================] - 1s 17us/sample - loss: 1.8765 - accuracy: 0.3129 - val_loss: 1.7457 - val_accuracy: 0.3830\n",
      "Epoch 9/50\n",
      "50000/50000 [==============================] - 1s 16us/sample - loss: 1.8573 - accuracy: 0.3206 - val_loss: 1.7193 - val_accuracy: 0.3843\n",
      "Epoch 10/50\n",
      "50000/50000 [==============================] - 1s 17us/sample - loss: 1.8291 - accuracy: 0.3332 - val_loss: 1.6994 - val_accuracy: 0.4009\n",
      "Epoch 11/50\n",
      "50000/50000 [==============================] - 1s 16us/sample - loss: 1.8098 - accuracy: 0.3416 - val_loss: 1.6728 - val_accuracy: 0.4058\n",
      "Epoch 12/50\n",
      "50000/50000 [==============================] - 1s 17us/sample - loss: 1.7870 - accuracy: 0.3505 - val_loss: 1.6410 - val_accuracy: 0.4124\n",
      "Epoch 13/50\n",
      "50000/50000 [==============================] - 1s 17us/sample - loss: 1.7688 - accuracy: 0.3577 - val_loss: 1.6359 - val_accuracy: 0.4220\n",
      "Epoch 14/50\n",
      "50000/50000 [==============================] - 1s 17us/sample - loss: 1.7472 - accuracy: 0.3671 - val_loss: 1.6017 - val_accuracy: 0.4248\n",
      "Epoch 15/50\n",
      "50000/50000 [==============================] - 1s 17us/sample - loss: 1.7326 - accuracy: 0.3736 - val_loss: 1.5959 - val_accuracy: 0.4330\n",
      "Epoch 16/50\n",
      "50000/50000 [==============================] - 1s 17us/sample - loss: 1.7126 - accuracy: 0.3801 - val_loss: 1.5931 - val_accuracy: 0.4296\n",
      "Epoch 17/50\n",
      "50000/50000 [==============================] - 1s 17us/sample - loss: 1.7031 - accuracy: 0.3861 - val_loss: 1.5561 - val_accuracy: 0.4436\n",
      "Epoch 18/50\n",
      "50000/50000 [==============================] - 1s 17us/sample - loss: 1.6831 - accuracy: 0.3921 - val_loss: 1.5513 - val_accuracy: 0.4445\n",
      "Epoch 19/50\n",
      "50000/50000 [==============================] - 1s 16us/sample - loss: 1.6696 - accuracy: 0.4014 - val_loss: 1.5363 - val_accuracy: 0.4559\n",
      "Epoch 20/50\n",
      "50000/50000 [==============================] - 1s 17us/sample - loss: 1.6561 - accuracy: 0.4036 - val_loss: 1.5306 - val_accuracy: 0.4546\n",
      "Epoch 21/50\n",
      "50000/50000 [==============================] - 1s 16us/sample - loss: 1.6459 - accuracy: 0.4069 - val_loss: 1.5303 - val_accuracy: 0.4515\n",
      "Epoch 22/50\n",
      "50000/50000 [==============================] - 1s 17us/sample - loss: 1.6255 - accuracy: 0.4156 - val_loss: 1.5171 - val_accuracy: 0.4504\n",
      "Epoch 23/50\n",
      "50000/50000 [==============================] - 1s 17us/sample - loss: 1.6196 - accuracy: 0.4167 - val_loss: 1.5032 - val_accuracy: 0.4634\n",
      "Epoch 24/50\n",
      "50000/50000 [==============================] - 1s 16us/sample - loss: 1.6090 - accuracy: 0.4193 - val_loss: 1.4985 - val_accuracy: 0.4637\n",
      "Epoch 25/50\n",
      "50000/50000 [==============================] - 1s 17us/sample - loss: 1.6028 - accuracy: 0.4240 - val_loss: 1.4869 - val_accuracy: 0.4655\n",
      "Epoch 26/50\n",
      "50000/50000 [==============================] - 1s 16us/sample - loss: 1.5863 - accuracy: 0.4315 - val_loss: 1.4765 - val_accuracy: 0.4726\n",
      "Epoch 27/50\n",
      "50000/50000 [==============================] - 1s 17us/sample - loss: 1.5714 - accuracy: 0.4349 - val_loss: 1.4691 - val_accuracy: 0.4706\n",
      "Epoch 28/50\n",
      "50000/50000 [==============================] - 1s 17us/sample - loss: 1.5686 - accuracy: 0.4346 - val_loss: 1.4672 - val_accuracy: 0.4714\n",
      "Epoch 29/50\n",
      "50000/50000 [==============================] - 1s 17us/sample - loss: 1.5607 - accuracy: 0.4365 - val_loss: 1.4647 - val_accuracy: 0.4726\n",
      "Epoch 30/50\n",
      "50000/50000 [==============================] - 1s 17us/sample - loss: 1.5481 - accuracy: 0.4456 - val_loss: 1.4565 - val_accuracy: 0.4766\n",
      "Epoch 31/50\n",
      "50000/50000 [==============================] - 1s 17us/sample - loss: 1.5419 - accuracy: 0.4487 - val_loss: 1.4425 - val_accuracy: 0.4854\n",
      "Epoch 32/50\n",
      "50000/50000 [==============================] - 1s 17us/sample - loss: 1.5314 - accuracy: 0.4498 - val_loss: 1.4405 - val_accuracy: 0.4876\n",
      "Epoch 33/50\n",
      "50000/50000 [==============================] - 1s 17us/sample - loss: 1.5306 - accuracy: 0.4533 - val_loss: 1.4383 - val_accuracy: 0.4914\n",
      "Epoch 34/50\n",
      "50000/50000 [==============================] - 1s 16us/sample - loss: 1.5172 - accuracy: 0.4579 - val_loss: 1.4319 - val_accuracy: 0.4952\n",
      "Epoch 35/50\n",
      "50000/50000 [==============================] - 1s 17us/sample - loss: 1.5119 - accuracy: 0.4580 - val_loss: 1.4385 - val_accuracy: 0.4845\n",
      "Epoch 36/50\n",
      "50000/50000 [==============================] - 1s 17us/sample - loss: 1.4992 - accuracy: 0.4650 - val_loss: 1.4162 - val_accuracy: 0.4949\n",
      "Epoch 37/50\n",
      "50000/50000 [==============================] - 1s 16us/sample - loss: 1.4938 - accuracy: 0.4683 - val_loss: 1.4139 - val_accuracy: 0.4975\n",
      "Epoch 38/50\n",
      "50000/50000 [==============================] - 1s 17us/sample - loss: 1.4879 - accuracy: 0.4678 - val_loss: 1.4088 - val_accuracy: 0.4968\n",
      "Epoch 39/50\n",
      "50000/50000 [==============================] - 1s 16us/sample - loss: 1.4768 - accuracy: 0.4726 - val_loss: 1.4267 - val_accuracy: 0.4949\n",
      "Epoch 40/50\n",
      "50000/50000 [==============================] - 1s 17us/sample - loss: 1.4735 - accuracy: 0.4743 - val_loss: 1.4183 - val_accuracy: 0.4905\n",
      "Epoch 41/50\n",
      "50000/50000 [==============================] - 1s 17us/sample - loss: 1.4706 - accuracy: 0.4745 - val_loss: 1.4007 - val_accuracy: 0.5032\n",
      "Epoch 42/50\n"
     ]
    },
    {
     "name": "stdout",
     "output_type": "stream",
     "text": [
      "50000/50000 [==============================] - 1s 17us/sample - loss: 1.4543 - accuracy: 0.4800 - val_loss: 1.4045 - val_accuracy: 0.4940\n",
      "Epoch 43/50\n",
      "50000/50000 [==============================] - 1s 17us/sample - loss: 1.4481 - accuracy: 0.4804 - val_loss: 1.4021 - val_accuracy: 0.5002\n",
      "Epoch 44/50\n",
      "50000/50000 [==============================] - 1s 17us/sample - loss: 1.4475 - accuracy: 0.4829 - val_loss: 1.3972 - val_accuracy: 0.5022\n",
      "Epoch 45/50\n",
      "50000/50000 [==============================] - 1s 17us/sample - loss: 1.4386 - accuracy: 0.4854 - val_loss: 1.3937 - val_accuracy: 0.5034\n",
      "Epoch 46/50\n",
      "50000/50000 [==============================] - 1s 17us/sample - loss: 1.4327 - accuracy: 0.4906 - val_loss: 1.3845 - val_accuracy: 0.5069\n",
      "Epoch 47/50\n",
      "50000/50000 [==============================] - 1s 17us/sample - loss: 1.4253 - accuracy: 0.4916 - val_loss: 1.3911 - val_accuracy: 0.5038\n",
      "Epoch 48/50\n",
      "50000/50000 [==============================] - 1s 17us/sample - loss: 1.4229 - accuracy: 0.4915 - val_loss: 1.3853 - val_accuracy: 0.5066\n",
      "Epoch 49/50\n",
      "50000/50000 [==============================] - 1s 17us/sample - loss: 1.4159 - accuracy: 0.4957 - val_loss: 1.3691 - val_accuracy: 0.5123\n",
      "Epoch 50/50\n",
      "50000/50000 [==============================] - 1s 17us/sample - loss: 1.4120 - accuracy: 0.4975 - val_loss: 1.3905 - val_accuracy: 0.5072\n"
     ]
    }
   ],
   "source": [
    "model = build_mlp(input_shape=x_train.shape[1:], drp_ratio=Dropout_EXP)\n",
    "model.summary()\n",
    "optimizer = keras.optimizers.SGD(lr=LEARNING_RATE, nesterov=True, momentum=MOMENTUM)\n",
    "model.compile(loss=\"categorical_crossentropy\", metrics=[\"accuracy\"], optimizer=optimizer)\n",
    "\n",
    "model.fit(x_train, y_train, \n",
    "          epochs=EPOCHS, \n",
    "          batch_size=BATCH_SIZE, \n",
    "          validation_data=(x_test, y_test), \n",
    "          shuffle=True)\n",
    "\n",
    "# Collect results\n",
    "train_loss = model.history.history[\"loss\"]\n",
    "valid_loss = model.history.history[\"val_loss\"]\n",
    "train_acc = model.history.history[\"accuracy\"]\n",
    "valid_acc = model.history.history[\"val_accuracy\"]"
   ]
  },
  {
   "cell_type": "code",
   "execution_count": 10,
   "metadata": {},
   "outputs": [
    {
     "data": {
      "image/png": "[encoded data removed]",
      "text/plain": [
       "<Figure size 432x288 with 1 Axes>"
      ]
     },
     "metadata": {
      "needs_background": "light"
     },
     "output_type": "display_data"
    },
    {
     "data": {
      "image/png": "[encoded data removed]",
      "text/plain": [
       "<Figure size 432x288 with 1 Axes>"
      ]
     },
     "metadata": {
      "needs_background": "light"
     },
     "output_type": "display_data"
    }
   ],
   "source": [
    "import matplotlib.pyplot as plt\n",
    "\n",
    "plt.plot(range(len(train_loss)), train_loss, label=\"train loss\")\n",
    "plt.plot(range(len(valid_loss)), valid_loss, label=\"valid loss\")\n",
    "plt.legend()\n",
    "plt.title(\"Loss\")\n",
    "plt.show()\n",
    "\n",
    "plt.plot(range(len(train_acc)), train_acc, label=\"train accuracy\")\n",
    "plt.plot(range(len(valid_acc)), valid_acc, label=\"valid accuracy\")\n",
    "plt.legend()\n",
    "plt.title(\"Accuracy\")\n",
    "plt.show()"
   ]
  },
  {
   "cell_type": "code",
   "execution_count": null,
   "metadata": {},
   "outputs": [],
   "source": [
    "# Adam"
   ]
  },
  {
   "cell_type": "code",
   "execution_count": 11,
   "metadata": {},
   "outputs": [],
   "source": [
    "LEARNING_RATE = 1e-3\n",
    "EPOCHS = 50\n",
    "BATCH_SIZE = 256\n",
    "Dropout_EXP = 0.1"
   ]
  },
  {
   "cell_type": "code",
   "execution_count": 12,
   "metadata": {},
   "outputs": [
    {
     "name": "stdout",
     "output_type": "stream",
     "text": [
      "Model: \"model_1\"\n",
      "_________________________________________________________________\n",
      "Layer (type)                 Output Shape              Param #   \n",
      "=================================================================\n",
      "input_2 (InputLayer)         [(None, 3072)]            0         \n",
      "_________________________________________________________________\n",
      "hidden_layer1 (Dense)        (None, 512)               1573376   \n",
      "_________________________________________________________________\n",
      "dropout_5 (Dropout)          (None, 512)               0         \n",
      "_________________________________________________________________\n",
      "hidden_layer2 (Dense)        (None, 256)               131328    \n",
      "_________________________________________________________________\n",
      "dropout_6 (Dropout)          (None, 256)               0         \n",
      "_________________________________________________________________\n",
      "hidden_layer3 (Dense)        (None, 128)               32896     \n",
      "_________________________________________________________________\n",
      "dropout_7 (Dropout)          (None, 128)               0         \n",
      "_________________________________________________________________\n",
      "hidden_layer4 (Dense)        (None, 64)                8256      \n",
      "_________________________________________________________________\n",
      "dropout_8 (Dropout)          (None, 64)                0         \n",
      "_________________________________________________________________\n",
      "hidden_layer5 (Dense)        (None, 32)                2080      \n",
      "_________________________________________________________________\n",
      "dropout_9 (Dropout)          (None, 32)                0         \n",
      "_________________________________________________________________\n",
      "output (Dense)               (None, 10)                330       \n",
      "=================================================================\n",
      "Total params: 1,748,266\n",
      "Trainable params: 1,748,266\n",
      "Non-trainable params: 0\n",
      "_________________________________________________________________\n",
      "Train on 50000 samples, validate on 10000 samples\n",
      "Epoch 1/50\n",
      "50000/50000 [==============================] - 1s 27us/sample - loss: 2.0926 - accuracy: 0.2081 - val_loss: 1.9748 - val_accuracy: 0.2691\n",
      "Epoch 2/50\n",
      "50000/50000 [==============================] - 1s 17us/sample - loss: 1.8968 - accuracy: 0.3059 - val_loss: 1.8008 - val_accuracy: 0.3475\n",
      "Epoch 3/50\n",
      "50000/50000 [==============================] - 1s 17us/sample - loss: 1.8199 - accuracy: 0.3424 - val_loss: 1.7056 - val_accuracy: 0.3833\n",
      "Epoch 4/50\n",
      "50000/50000 [==============================] - 1s 17us/sample - loss: 1.7615 - accuracy: 0.3689 - val_loss: 1.6489 - val_accuracy: 0.4118\n",
      "Epoch 5/50\n",
      "50000/50000 [==============================] - 1s 17us/sample - loss: 1.7057 - accuracy: 0.3903 - val_loss: 1.6060 - val_accuracy: 0.4243\n",
      "Epoch 6/50\n",
      "50000/50000 [==============================] - 1s 17us/sample - loss: 1.6645 - accuracy: 0.4053 - val_loss: 1.5735 - val_accuracy: 0.4370\n",
      "Epoch 7/50\n",
      "50000/50000 [==============================] - 1s 17us/sample - loss: 1.6437 - accuracy: 0.4101 - val_loss: 1.5815 - val_accuracy: 0.4271\n",
      "Epoch 8/50\n",
      "50000/50000 [==============================] - 1s 17us/sample - loss: 1.6177 - accuracy: 0.4231 - val_loss: 1.5766 - val_accuracy: 0.4376\n",
      "Epoch 9/50\n",
      "50000/50000 [==============================] - 1s 17us/sample - loss: 1.5974 - accuracy: 0.4300 - val_loss: 1.5193 - val_accuracy: 0.4608\n",
      "Epoch 10/50\n",
      "50000/50000 [==============================] - 1s 17us/sample - loss: 1.5715 - accuracy: 0.4403 - val_loss: 1.5359 - val_accuracy: 0.4556\n",
      "Epoch 11/50\n",
      "50000/50000 [==============================] - 1s 17us/sample - loss: 1.5544 - accuracy: 0.4461 - val_loss: 1.5050 - val_accuracy: 0.4619\n",
      "Epoch 12/50\n",
      "50000/50000 [==============================] - 1s 17us/sample - loss: 1.5392 - accuracy: 0.4506 - val_loss: 1.4800 - val_accuracy: 0.4826\n",
      "Epoch 13/50\n",
      "50000/50000 [==============================] - 1s 17us/sample - loss: 1.5245 - accuracy: 0.4592 - val_loss: 1.4669 - val_accuracy: 0.4849\n",
      "Epoch 14/50\n",
      "50000/50000 [==============================] - 1s 17us/sample - loss: 1.5092 - accuracy: 0.4637 - val_loss: 1.4559 - val_accuracy: 0.4734\n",
      "Epoch 15/50\n",
      "50000/50000 [==============================] - 1s 17us/sample - loss: 1.4967 - accuracy: 0.4659 - val_loss: 1.4422 - val_accuracy: 0.4880\n",
      "Epoch 16/50\n",
      "50000/50000 [==============================] - 1s 17us/sample - loss: 1.4880 - accuracy: 0.4708 - val_loss: 1.4540 - val_accuracy: 0.4811\n",
      "Epoch 17/50\n",
      "50000/50000 [==============================] - 1s 17us/sample - loss: 1.4739 - accuracy: 0.4747 - val_loss: 1.4682 - val_accuracy: 0.4823\n",
      "Epoch 18/50\n",
      "50000/50000 [==============================] - 1s 17us/sample - loss: 1.4635 - accuracy: 0.4760 - val_loss: 1.4531 - val_accuracy: 0.4901\n",
      "Epoch 19/50\n",
      "50000/50000 [==============================] - 1s 17us/sample - loss: 1.4476 - accuracy: 0.4839 - val_loss: 1.4519 - val_accuracy: 0.4791\n",
      "Epoch 20/50\n",
      "50000/50000 [==============================] - 1s 17us/sample - loss: 1.4390 - accuracy: 0.4857 - val_loss: 1.4219 - val_accuracy: 0.4949\n",
      "Epoch 21/50\n",
      "50000/50000 [==============================] - 1s 17us/sample - loss: 1.4250 - accuracy: 0.4928 - val_loss: 1.4519 - val_accuracy: 0.4795\n",
      "Epoch 22/50\n",
      "50000/50000 [==============================] - 1s 17us/sample - loss: 1.4182 - accuracy: 0.4967 - val_loss: 1.4273 - val_accuracy: 0.4980\n",
      "Epoch 23/50\n",
      "50000/50000 [==============================] - 1s 17us/sample - loss: 1.4052 - accuracy: 0.4998 - val_loss: 1.4032 - val_accuracy: 0.5053\n",
      "Epoch 24/50\n",
      "50000/50000 [==============================] - 1s 17us/sample - loss: 1.4031 - accuracy: 0.5002 - val_loss: 1.4128 - val_accuracy: 0.4940\n",
      "Epoch 25/50\n",
      "50000/50000 [==============================] - 1s 17us/sample - loss: 1.3939 - accuracy: 0.5057 - val_loss: 1.4593 - val_accuracy: 0.4832\n",
      "Epoch 26/50\n",
      "50000/50000 [==============================] - 1s 17us/sample - loss: 1.3845 - accuracy: 0.5067 - val_loss: 1.3980 - val_accuracy: 0.5026\n",
      "Epoch 27/50\n",
      "50000/50000 [==============================] - 1s 17us/sample - loss: 1.3886 - accuracy: 0.5059 - val_loss: 1.3829 - val_accuracy: 0.5064\n",
      "Epoch 28/50\n",
      "50000/50000 [==============================] - 1s 17us/sample - loss: 1.3685 - accuracy: 0.5138 - val_loss: 1.3837 - val_accuracy: 0.5083\n",
      "Epoch 29/50\n",
      "50000/50000 [==============================] - 1s 17us/sample - loss: 1.3615 - accuracy: 0.5153 - val_loss: 1.4141 - val_accuracy: 0.5010\n",
      "Epoch 30/50\n",
      "50000/50000 [==============================] - 1s 17us/sample - loss: 1.3496 - accuracy: 0.5214 - val_loss: 1.3875 - val_accuracy: 0.5095\n",
      "Epoch 31/50\n",
      "50000/50000 [==============================] - 1s 17us/sample - loss: 1.3540 - accuracy: 0.5186 - val_loss: 1.3906 - val_accuracy: 0.5111\n",
      "Epoch 32/50\n",
      "50000/50000 [==============================] - 1s 17us/sample - loss: 1.3403 - accuracy: 0.5233 - val_loss: 1.3871 - val_accuracy: 0.5120\n",
      "Epoch 33/50\n",
      "50000/50000 [==============================] - 1s 17us/sample - loss: 1.3302 - accuracy: 0.5262 - val_loss: 1.3713 - val_accuracy: 0.5101\n",
      "Epoch 34/50\n",
      "50000/50000 [==============================] - 1s 17us/sample - loss: 1.3247 - accuracy: 0.5285 - val_loss: 1.3679 - val_accuracy: 0.5145\n",
      "Epoch 35/50\n",
      "50000/50000 [==============================] - 1s 17us/sample - loss: 1.3148 - accuracy: 0.5333 - val_loss: 1.3640 - val_accuracy: 0.5172\n",
      "Epoch 36/50\n",
      "50000/50000 [==============================] - 1s 17us/sample - loss: 1.3186 - accuracy: 0.5299 - val_loss: 1.3811 - val_accuracy: 0.5094\n",
      "Epoch 37/50\n",
      "50000/50000 [==============================] - 1s 17us/sample - loss: 1.3156 - accuracy: 0.5319 - val_loss: 1.3749 - val_accuracy: 0.5160\n",
      "Epoch 38/50\n",
      "50000/50000 [==============================] - 1s 17us/sample - loss: 1.3097 - accuracy: 0.5351 - val_loss: 1.3723 - val_accuracy: 0.5087\n",
      "Epoch 39/50\n",
      "50000/50000 [==============================] - 1s 17us/sample - loss: 1.2960 - accuracy: 0.5357 - val_loss: 1.3898 - val_accuracy: 0.5121\n",
      "Epoch 40/50\n",
      "50000/50000 [==============================] - 1s 17us/sample - loss: 1.2977 - accuracy: 0.5396 - val_loss: 1.3718 - val_accuracy: 0.5131\n",
      "Epoch 41/50\n",
      "50000/50000 [==============================] - 1s 17us/sample - loss: 1.2889 - accuracy: 0.5445 - val_loss: 1.3811 - val_accuracy: 0.5091\n",
      "Epoch 42/50\n"
     ]
    },
    {
     "name": "stdout",
     "output_type": "stream",
     "text": [
      "50000/50000 [==============================] - 1s 17us/sample - loss: 1.2891 - accuracy: 0.5408 - val_loss: 1.3633 - val_accuracy: 0.5186\n",
      "Epoch 43/50\n",
      "50000/50000 [==============================] - 1s 17us/sample - loss: 1.2834 - accuracy: 0.5424 - val_loss: 1.3698 - val_accuracy: 0.5129\n",
      "Epoch 44/50\n",
      "50000/50000 [==============================] - 1s 17us/sample - loss: 1.2773 - accuracy: 0.5448 - val_loss: 1.3976 - val_accuracy: 0.5075\n",
      "Epoch 45/50\n",
      "50000/50000 [==============================] - 1s 17us/sample - loss: 1.2808 - accuracy: 0.5446 - val_loss: 1.3614 - val_accuracy: 0.5162\n",
      "Epoch 46/50\n",
      "50000/50000 [==============================] - 1s 17us/sample - loss: 1.2670 - accuracy: 0.5498 - val_loss: 1.3652 - val_accuracy: 0.5226\n",
      "Epoch 47/50\n",
      "50000/50000 [==============================] - 1s 17us/sample - loss: 1.2676 - accuracy: 0.5488 - val_loss: 1.3589 - val_accuracy: 0.5168\n",
      "Epoch 48/50\n",
      "50000/50000 [==============================] - 1s 17us/sample - loss: 1.2586 - accuracy: 0.5518 - val_loss: 1.3514 - val_accuracy: 0.5188\n",
      "Epoch 49/50\n",
      "50000/50000 [==============================] - 1s 17us/sample - loss: 1.2471 - accuracy: 0.5573 - val_loss: 1.3684 - val_accuracy: 0.5153\n",
      "Epoch 50/50\n",
      "50000/50000 [==============================] - 1s 17us/sample - loss: 1.2585 - accuracy: 0.5542 - val_loss: 1.3613 - val_accuracy: 0.5248\n"
     ]
    }
   ],
   "source": [
    "model = build_mlp(input_shape=x_train.shape[1:], drp_ratio=Dropout_EXP)\n",
    "model.summary()\n",
    "optimizer = keras.optimizers.Adam(lr=LEARNING_RATE)\n",
    "model.compile(loss=\"categorical_crossentropy\", metrics=[\"accuracy\"], optimizer=optimizer)\n",
    "\n",
    "model.fit(x_train, y_train, \n",
    "          epochs=EPOCHS, \n",
    "          batch_size=BATCH_SIZE, \n",
    "          validation_data=(x_test, y_test), \n",
    "          shuffle=True)\n",
    "\n",
    "# Collect results\n",
    "train_loss = model.history.history[\"loss\"]\n",
    "valid_loss = model.history.history[\"val_loss\"]\n",
    "train_acc = model.history.history[\"accuracy\"]\n",
    "valid_acc = model.history.history[\"val_accuracy\"]"
   ]
  },
  {
   "cell_type": "code",
   "execution_count": 13,
   "metadata": {},
   "outputs": [
    {
     "data": {
      "image/png": "[encoded data removed]",
      "text/plain": [
       "<Figure size 432x288 with 1 Axes>"
      ]
     },
     "metadata": {
      "needs_background": "light"
     },
     "output_type": "display_data"
    },
    {
     "data": {
      "image/png": "[encoded data removed]",
      "text/plain": [
       "<Figure size 432x288 with 1 Axes>"
      ]
     },
     "metadata": {
      "needs_background": "light"
     },
     "output_type": "display_data"
    }
   ],
   "source": [
    "import matplotlib.pyplot as plt\n",
    "\n",
    "plt.plot(range(len(train_loss)), train_loss, label=\"train loss\")\n",
    "plt.plot(range(len(valid_loss)), valid_loss, label=\"valid loss\")\n",
    "plt.legend()\n",
    "plt.title(\"Loss\")\n",
    "plt.show()\n",
    "\n",
    "plt.plot(range(len(train_acc)), train_acc, label=\"train accuracy\")\n",
    "plt.plot(range(len(valid_acc)), valid_acc, label=\"valid accuracy\")\n",
    "plt.legend()\n",
    "plt.title(\"Accuracy\")\n",
    "plt.show()"
   ]
  },
  {
   "cell_type": "code",
   "execution_count": null,
   "metadata": {},
   "outputs": [],
   "source": []
  }
 ],
 "metadata": {
  "kernelspec": {
   "display_name": "Python 3",
   "language": "python",
   "name": "python3"
  },
  "language_info": {
   "codemirror_mode": {
    "name": "ipython",
    "version": 3
   },
   "file_extension": ".py",
   "mimetype": "text/x-python",
   "name": "python",
   "nbconvert_exporter": "python",
   "pygments_lexer": "ipython3",
   "version": "3.7.5"
  }
 },
 "nbformat": 4,
 "nbformat_minor": 2
}
