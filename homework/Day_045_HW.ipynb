{
 "cells": [
  {
   "cell_type": "markdown",
   "metadata": {},
   "source": [
    "#### 完整的 Ensemble 概念 by 李宏毅教授\n",
    "\n",
    "#### 1. bagging:\n",
    "\n",
    "    (1) Sampling N samples with replacement from a size N dataset. Since the method is with replacement, each sampling gets different data.\n",
    "    (2) Train different functions on different sampling data, then average or voting their outputs to decide the best predict outcome.\n",
    "    \n",
    "    Note1: bagging is used when the model is complex, the variance is large, and is easy to overfit, eg. decision tree.\n",
    "    Note2: bagging is parallelism\n",
    "\n",
    "#### 2. boosting:\n",
    "\n",
    "    (1) Obtain the first classifier.\n",
    "    (2) Find another function, which is complementary with the first classifier, to help the first classifier.\n",
    "    (3) Repeat step (2) until ...\n",
    "    (4) Combining all the classifiers.\n",
    "    \n",
    "    Note1: boosting is used when the model is weak, and cannot fit the data.\n",
    "    Note2: boosting is sequentially\n",
    "    \n",
    "    Adaboost: training a new function on the new training set that fails the trained function\n",
    "    \n",
    "              the trained function: misclassified sample -> increase weight\n",
    "                                    correctly classified sample -> decrease weight\n",
    "              the new function: learn based on the new weight\n",
    "              \n",
    "              \n",
    "#### gradient boosting: general formulation of boosting"
   ]
  },
  {
   "cell_type": "code",
   "execution_count": null,
   "metadata": {},
   "outputs": [],
   "source": []
  }
 ],
 "metadata": {
  "kernelspec": {
   "display_name": "Python 3",
   "language": "python",
   "name": "python3"
  },
  "language_info": {
   "codemirror_mode": {
    "name": "ipython",
    "version": 3
   },
   "file_extension": ".py",
   "mimetype": "text/x-python",
   "name": "python",
   "nbconvert_exporter": "python",
   "pygments_lexer": "ipython3",
   "version": "3.7.3"
  }
 },
 "nbformat": 4,
 "nbformat_minor": 2
}
