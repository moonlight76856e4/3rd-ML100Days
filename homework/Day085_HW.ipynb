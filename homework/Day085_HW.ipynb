{
 "cells": [
  {
   "cell_type": "code",
   "execution_count": 1,
   "metadata": {},
   "outputs": [],
   "source": [
    "import os\n",
    "import tensorflow.keras as keras\n",
    "import matplotlib.pyplot as plt\n",
    "\n",
    "os.environ[\"CUDA_VISIBLE_DEVICES\"] = \"0\""
   ]
  },
  {
   "cell_type": "code",
   "execution_count": 2,
   "metadata": {},
   "outputs": [],
   "source": [
    "train, test = keras.datasets.cifar10.load_data()"
   ]
  },
  {
   "cell_type": "code",
   "execution_count": 3,
   "metadata": {},
   "outputs": [],
   "source": [
    "def preproc_x(x, flatten=True):\n",
    "    x = x / 255.\n",
    "    if flatten:\n",
    "        x = x.reshape((len(x), -1))\n",
    "    return x\n",
    "\n",
    "def preproc_y(y, num_classes=10):\n",
    "    if y.shape[-1] == 1:\n",
    "        y = keras.utils.to_categorical(y, num_classes)\n",
    "    return y"
   ]
  },
  {
   "cell_type": "code",
   "execution_count": 4,
   "metadata": {},
   "outputs": [],
   "source": [
    "x_train, y_train = train\n",
    "x_test, y_test = test\n",
    "\n",
    "# Preproc the inputs\n",
    "x_train = preproc_x(x_train)\n",
    "x_test = preproc_x(x_test)\n",
    "\n",
    "# Preprc the outputs\n",
    "y_train = preproc_y(y_train)\n",
    "y_test = preproc_y(y_test)"
   ]
  },
  {
   "cell_type": "code",
   "execution_count": 5,
   "metadata": {},
   "outputs": [],
   "source": [
    "from tensorflow.keras.layers import BatchNormalization"
   ]
  },
  {
   "cell_type": "code",
   "execution_count": 6,
   "metadata": {},
   "outputs": [],
   "source": [
    "def build_mlp(input_shape, output_units=10, num_neurons=[512, 256, 128]):\n",
    "    input_layer = keras.layers.Input(input_shape)\n",
    "    \n",
    "    for i, n_units in enumerate(num_neurons):\n",
    "        if i == 0:\n",
    "            x = keras.layers.Dense(units=n_units, \n",
    "                                   activation=\"relu\", \n",
    "                                   name=\"hidden_layer\"+str(i+1))(input_layer)\n",
    "            x = BatchNormalization()(x)\n",
    "        else:\n",
    "            x = keras.layers.Dense(units=n_units, \n",
    "                                   activation=\"relu\", \n",
    "                                   name=\"hidden_layer\"+str(i+1))(x)\n",
    "            x = BatchNormalization()(x)\n",
    "    \n",
    "    out = keras.layers.Dense(units=output_units, activation=\"softmax\", name=\"output\")(x)\n",
    "    \n",
    "    model = keras.models.Model(inputs=[input_layer], outputs=[out])\n",
    "    return model"
   ]
  },
  {
   "cell_type": "code",
   "execution_count": 7,
   "metadata": {},
   "outputs": [],
   "source": [
    "LEARNING_RATE = 1e-3\n",
    "EPOCHS = 50\n",
    "BATCH_SIZE = 1024\n",
    "MOMENTUM = 0.95"
   ]
  },
  {
   "cell_type": "code",
   "execution_count": null,
   "metadata": {},
   "outputs": [],
   "source": [
    "# monitor=\"val_accuracy\""
   ]
  },
  {
   "cell_type": "code",
   "execution_count": 8,
   "metadata": {},
   "outputs": [],
   "source": [
    "from tensorflow.keras.callbacks import EarlyStopping\n",
    "\n",
    "earlystop = EarlyStopping(monitor=\"val_accuracy\", \n",
    "                          patience=5, \n",
    "                          verbose=1\n",
    "                          )"
   ]
  },
  {
   "cell_type": "code",
   "execution_count": 9,
   "metadata": {},
   "outputs": [
    {
     "name": "stdout",
     "output_type": "stream",
     "text": [
      "Model: \"model\"\n",
      "_________________________________________________________________\n",
      "Layer (type)                 Output Shape              Param #   \n",
      "=================================================================\n",
      "input_1 (InputLayer)         [(None, 3072)]            0         \n",
      "_________________________________________________________________\n",
      "hidden_layer1 (Dense)        (None, 512)               1573376   \n",
      "_________________________________________________________________\n",
      "batch_normalization (BatchNo (None, 512)               2048      \n",
      "_________________________________________________________________\n",
      "hidden_layer2 (Dense)        (None, 256)               131328    \n",
      "_________________________________________________________________\n",
      "batch_normalization_1 (Batch (None, 256)               1024      \n",
      "_________________________________________________________________\n",
      "hidden_layer3 (Dense)        (None, 128)               32896     \n",
      "_________________________________________________________________\n",
      "batch_normalization_2 (Batch (None, 128)               512       \n",
      "_________________________________________________________________\n",
      "output (Dense)               (None, 10)                1290      \n",
      "=================================================================\n",
      "Total params: 1,742,474\n",
      "Trainable params: 1,740,682\n",
      "Non-trainable params: 1,792\n",
      "_________________________________________________________________\n",
      "Train on 50000 samples, validate on 10000 samples\n",
      "Epoch 1/50\n",
      "50000/50000 [==============================] - 1s 29us/sample - loss: 2.2158 - accuracy: 0.2671 - val_loss: 2.1198 - val_accuracy: 0.2067\n",
      "Epoch 2/50\n",
      "50000/50000 [==============================] - 1s 10us/sample - loss: 1.7406 - accuracy: 0.3923 - val_loss: 1.9467 - val_accuracy: 0.3212\n",
      "Epoch 3/50\n",
      "50000/50000 [==============================] - 1s 10us/sample - loss: 1.6146 - accuracy: 0.4356 - val_loss: 1.8209 - val_accuracy: 0.3681\n",
      "Epoch 4/50\n",
      "50000/50000 [==============================] - 1s 10us/sample - loss: 1.5404 - accuracy: 0.4618 - val_loss: 1.7017 - val_accuracy: 0.4129\n",
      "Epoch 5/50\n",
      "50000/50000 [==============================] - 1s 10us/sample - loss: 1.4853 - accuracy: 0.4815 - val_loss: 1.6344 - val_accuracy: 0.4332\n",
      "Epoch 6/50\n",
      "50000/50000 [==============================] - 1s 10us/sample - loss: 1.4395 - accuracy: 0.4988 - val_loss: 1.5940 - val_accuracy: 0.4446\n",
      "Epoch 7/50\n",
      "50000/50000 [==============================] - 1s 10us/sample - loss: 1.4006 - accuracy: 0.5126 - val_loss: 1.5441 - val_accuracy: 0.4563\n",
      "Epoch 8/50\n",
      "50000/50000 [==============================] - 1s 10us/sample - loss: 1.3619 - accuracy: 0.5268 - val_loss: 1.5179 - val_accuracy: 0.4697\n",
      "Epoch 9/50\n",
      "50000/50000 [==============================] - 1s 10us/sample - loss: 1.3322 - accuracy: 0.5387 - val_loss: 1.4957 - val_accuracy: 0.4765\n",
      "Epoch 10/50\n",
      "50000/50000 [==============================] - 1s 10us/sample - loss: 1.3019 - accuracy: 0.5473 - val_loss: 1.4990 - val_accuracy: 0.4722\n",
      "Epoch 11/50\n",
      "50000/50000 [==============================] - 1s 10us/sample - loss: 1.2757 - accuracy: 0.5572 - val_loss: 1.4773 - val_accuracy: 0.4788\n",
      "Epoch 12/50\n",
      "50000/50000 [==============================] - 1s 10us/sample - loss: 1.2484 - accuracy: 0.5677 - val_loss: 1.4713 - val_accuracy: 0.4804\n",
      "Epoch 13/50\n",
      "50000/50000 [==============================] - 1s 10us/sample - loss: 1.2211 - accuracy: 0.5783 - val_loss: 1.4616 - val_accuracy: 0.4874\n",
      "Epoch 14/50\n",
      "50000/50000 [==============================] - 1s 10us/sample - loss: 1.1968 - accuracy: 0.5866 - val_loss: 1.4630 - val_accuracy: 0.4856\n",
      "Epoch 15/50\n",
      "50000/50000 [==============================] - 1s 10us/sample - loss: 1.1729 - accuracy: 0.5964 - val_loss: 1.4587 - val_accuracy: 0.4845\n",
      "Epoch 16/50\n",
      "50000/50000 [==============================] - 1s 10us/sample - loss: 1.1498 - accuracy: 0.6060 - val_loss: 1.4546 - val_accuracy: 0.4889\n",
      "Epoch 17/50\n",
      "50000/50000 [==============================] - 1s 10us/sample - loss: 1.1278 - accuracy: 0.6127 - val_loss: 1.4434 - val_accuracy: 0.4954\n",
      "Epoch 18/50\n",
      "50000/50000 [==============================] - 1s 10us/sample - loss: 1.1038 - accuracy: 0.6207 - val_loss: 1.4497 - val_accuracy: 0.4927\n",
      "Epoch 19/50\n",
      "50000/50000 [==============================] - 1s 10us/sample - loss: 1.0825 - accuracy: 0.6299 - val_loss: 1.4384 - val_accuracy: 0.4969\n",
      "Epoch 20/50\n",
      "50000/50000 [==============================] - 1s 10us/sample - loss: 1.0603 - accuracy: 0.6371 - val_loss: 1.4510 - val_accuracy: 0.4953\n",
      "Epoch 21/50\n",
      "50000/50000 [==============================] - 1s 10us/sample - loss: 1.0390 - accuracy: 0.6456 - val_loss: 1.4375 - val_accuracy: 0.4982\n",
      "Epoch 22/50\n",
      "50000/50000 [==============================] - 1s 10us/sample - loss: 1.0179 - accuracy: 0.6546 - val_loss: 1.4401 - val_accuracy: 0.4996\n",
      "Epoch 23/50\n",
      "50000/50000 [==============================] - 1s 10us/sample - loss: 0.9972 - accuracy: 0.6626 - val_loss: 1.4429 - val_accuracy: 0.5005\n",
      "Epoch 24/50\n",
      "50000/50000 [==============================] - 1s 10us/sample - loss: 0.9758 - accuracy: 0.6699 - val_loss: 1.4560 - val_accuracy: 0.5003\n",
      "Epoch 25/50\n",
      "50000/50000 [==============================] - 1s 10us/sample - loss: 0.9570 - accuracy: 0.6785 - val_loss: 1.4472 - val_accuracy: 0.5025\n",
      "Epoch 26/50\n",
      "50000/50000 [==============================] - 1s 10us/sample - loss: 0.9364 - accuracy: 0.6864 - val_loss: 1.4530 - val_accuracy: 0.4998\n",
      "Epoch 27/50\n",
      "50000/50000 [==============================] - 1s 10us/sample - loss: 0.9163 - accuracy: 0.6947 - val_loss: 1.4586 - val_accuracy: 0.5008\n",
      "Epoch 28/50\n",
      "50000/50000 [==============================] - 1s 10us/sample - loss: 0.8949 - accuracy: 0.7021 - val_loss: 1.4787 - val_accuracy: 0.4977\n",
      "Epoch 29/50\n",
      "50000/50000 [==============================] - 1s 10us/sample - loss: 0.8763 - accuracy: 0.7098 - val_loss: 1.4719 - val_accuracy: 0.4990\n",
      "Epoch 30/50\n",
      "50000/50000 [==============================] - 1s 10us/sample - loss: 0.8579 - accuracy: 0.7154 - val_loss: 1.4859 - val_accuracy: 0.5003\n",
      "Epoch 00030: early stopping\n"
     ]
    }
   ],
   "source": [
    "model = build_mlp(input_shape=x_train.shape[1:])\n",
    "model.summary()\n",
    "optimizer = keras.optimizers.SGD(lr=LEARNING_RATE, nesterov=True, momentum=MOMENTUM)\n",
    "model.compile(loss=\"categorical_crossentropy\", metrics=[\"accuracy\"], optimizer=optimizer)\n",
    "\n",
    "model.fit(x_train, y_train, \n",
    "          epochs=EPOCHS, \n",
    "          batch_size=BATCH_SIZE, \n",
    "          validation_data=(x_test, y_test), \n",
    "          shuffle=True,\n",
    "          callbacks=[earlystop]\n",
    "         )\n",
    "\n",
    "# Collect results\n",
    "train_loss = model.history.history[\"loss\"]\n",
    "valid_loss = model.history.history[\"val_loss\"]\n",
    "train_acc = model.history.history[\"accuracy\"]\n",
    "valid_acc = model.history.history[\"val_accuracy\"]"
   ]
  },
  {
   "cell_type": "code",
   "execution_count": 10,
   "metadata": {
    "scrolled": false
   },
   "outputs": [
    {
     "data": {
      "image/png": "[encoded data removed]",
      "text/plain": [
       "<Figure size 432x288 with 1 Axes>"
      ]
     },
     "metadata": {
      "needs_background": "light"
     },
     "output_type": "display_data"
    },
    {
     "data": {
      "image/png": "[encoded data removed]",
      "text/plain": [
       "<Figure size 432x288 with 1 Axes>"
      ]
     },
     "metadata": {
      "needs_background": "light"
     },
     "output_type": "display_data"
    }
   ],
   "source": [
    "import matplotlib.pyplot as plt\n",
    "\n",
    "plt.plot(range(len(train_loss)), train_loss, label=\"train loss\")\n",
    "plt.plot(range(len(valid_loss)), valid_loss, label=\"valid loss\")\n",
    "plt.legend()\n",
    "plt.title(\"Loss\")\n",
    "plt.show()\n",
    "\n",
    "plt.plot(range(len(train_acc)), train_acc, label=\"train accuracy\")\n",
    "plt.plot(range(len(valid_acc)), valid_acc, label=\"valid accuracy\")\n",
    "plt.legend()\n",
    "plt.title(\"Accuracy\")\n",
    "plt.show()"
   ]
  },
  {
   "cell_type": "code",
   "execution_count": null,
   "metadata": {},
   "outputs": [],
   "source": [
    "# patience=10"
   ]
  },
  {
   "cell_type": "code",
   "execution_count": 11,
   "metadata": {},
   "outputs": [],
   "source": [
    "from tensorflow.keras.callbacks import EarlyStopping\n",
    "\n",
    "earlystop = EarlyStopping(monitor=\"val_loss\", \n",
    "                          patience=10, \n",
    "                          verbose=1\n",
    "                          )"
   ]
  },
  {
   "cell_type": "code",
   "execution_count": 12,
   "metadata": {},
   "outputs": [
    {
     "name": "stdout",
     "output_type": "stream",
     "text": [
      "Model: \"model_1\"\n",
      "_________________________________________________________________\n",
      "Layer (type)                 Output Shape              Param #   \n",
      "=================================================================\n",
      "input_2 (InputLayer)         [(None, 3072)]            0         \n",
      "_________________________________________________________________\n",
      "hidden_layer1 (Dense)        (None, 512)               1573376   \n",
      "_________________________________________________________________\n",
      "batch_normalization_3 (Batch (None, 512)               2048      \n",
      "_________________________________________________________________\n",
      "hidden_layer2 (Dense)        (None, 256)               131328    \n",
      "_________________________________________________________________\n",
      "batch_normalization_4 (Batch (None, 256)               1024      \n",
      "_________________________________________________________________\n",
      "hidden_layer3 (Dense)        (None, 128)               32896     \n",
      "_________________________________________________________________\n",
      "batch_normalization_5 (Batch (None, 128)               512       \n",
      "_________________________________________________________________\n",
      "output (Dense)               (None, 10)                1290      \n",
      "=================================================================\n",
      "Total params: 1,742,474\n",
      "Trainable params: 1,740,682\n",
      "Non-trainable params: 1,792\n",
      "_________________________________________________________________\n",
      "Train on 50000 samples, validate on 10000 samples\n",
      "Epoch 1/50\n",
      "50000/50000 [==============================] - 1s 24us/sample - loss: 2.1844 - accuracy: 0.2742 - val_loss: 2.1324 - val_accuracy: 0.2143\n",
      "Epoch 2/50\n",
      "50000/50000 [==============================] - 1s 10us/sample - loss: 1.7441 - accuracy: 0.3919 - val_loss: 1.9492 - val_accuracy: 0.3106\n",
      "Epoch 3/50\n",
      "50000/50000 [==============================] - 1s 10us/sample - loss: 1.6182 - accuracy: 0.4352 - val_loss: 1.8111 - val_accuracy: 0.3809\n",
      "Epoch 4/50\n",
      "50000/50000 [==============================] - 1s 10us/sample - loss: 1.5434 - accuracy: 0.4600 - val_loss: 1.7214 - val_accuracy: 0.4035\n",
      "Epoch 5/50\n",
      "50000/50000 [==============================] - 1s 10us/sample - loss: 1.4874 - accuracy: 0.4790 - val_loss: 1.6303 - val_accuracy: 0.4322\n",
      "Epoch 6/50\n",
      "50000/50000 [==============================] - 1s 10us/sample - loss: 1.4406 - accuracy: 0.4967 - val_loss: 1.5852 - val_accuracy: 0.4475\n",
      "Epoch 7/50\n",
      "50000/50000 [==============================] - 1s 10us/sample - loss: 1.4013 - accuracy: 0.5107 - val_loss: 1.5483 - val_accuracy: 0.4528\n",
      "Epoch 8/50\n",
      "50000/50000 [==============================] - 1s 10us/sample - loss: 1.3637 - accuracy: 0.5252 - val_loss: 1.5341 - val_accuracy: 0.4567\n",
      "Epoch 9/50\n",
      "50000/50000 [==============================] - 1s 10us/sample - loss: 1.3316 - accuracy: 0.5359 - val_loss: 1.4999 - val_accuracy: 0.4698\n",
      "Epoch 10/50\n",
      "50000/50000 [==============================] - 1s 10us/sample - loss: 1.3012 - accuracy: 0.5475 - val_loss: 1.4938 - val_accuracy: 0.4724\n",
      "Epoch 11/50\n",
      "50000/50000 [==============================] - 1s 10us/sample - loss: 1.2719 - accuracy: 0.5579 - val_loss: 1.4845 - val_accuracy: 0.4710\n",
      "Epoch 12/50\n",
      "50000/50000 [==============================] - 1s 10us/sample - loss: 1.2434 - accuracy: 0.5699 - val_loss: 1.4692 - val_accuracy: 0.4827\n",
      "Epoch 13/50\n",
      "50000/50000 [==============================] - 1s 10us/sample - loss: 1.2180 - accuracy: 0.5784 - val_loss: 1.4733 - val_accuracy: 0.4797\n",
      "Epoch 14/50\n",
      "50000/50000 [==============================] - 1s 10us/sample - loss: 1.1914 - accuracy: 0.5902 - val_loss: 1.4750 - val_accuracy: 0.4783\n",
      "Epoch 15/50\n",
      "50000/50000 [==============================] - 1s 10us/sample - loss: 1.1676 - accuracy: 0.5978 - val_loss: 1.4691 - val_accuracy: 0.4842\n",
      "Epoch 16/50\n",
      "50000/50000 [==============================] - 1s 10us/sample - loss: 1.1458 - accuracy: 0.6074 - val_loss: 1.4653 - val_accuracy: 0.4867\n",
      "Epoch 17/50\n",
      "50000/50000 [==============================] - 1s 10us/sample - loss: 1.1214 - accuracy: 0.6162 - val_loss: 1.4589 - val_accuracy: 0.4894\n",
      "Epoch 18/50\n",
      "50000/50000 [==============================] - 1s 10us/sample - loss: 1.0962 - accuracy: 0.6251 - val_loss: 1.4708 - val_accuracy: 0.4887\n",
      "Epoch 19/50\n",
      "50000/50000 [==============================] - 1s 10us/sample - loss: 1.0747 - accuracy: 0.6348 - val_loss: 1.4660 - val_accuracy: 0.4858\n",
      "Epoch 20/50\n",
      "50000/50000 [==============================] - 1s 10us/sample - loss: 1.0526 - accuracy: 0.6414 - val_loss: 1.4585 - val_accuracy: 0.4906\n",
      "Epoch 21/50\n",
      "50000/50000 [==============================] - 1s 10us/sample - loss: 1.0313 - accuracy: 0.6499 - val_loss: 1.4653 - val_accuracy: 0.4919\n",
      "Epoch 22/50\n",
      "50000/50000 [==============================] - 1s 10us/sample - loss: 1.0081 - accuracy: 0.6579 - val_loss: 1.4688 - val_accuracy: 0.4956\n",
      "Epoch 23/50\n",
      "50000/50000 [==============================] - 1s 10us/sample - loss: 0.9902 - accuracy: 0.6669 - val_loss: 1.4616 - val_accuracy: 0.4988\n",
      "Epoch 24/50\n",
      "50000/50000 [==============================] - 1s 10us/sample - loss: 0.9666 - accuracy: 0.6759 - val_loss: 1.4760 - val_accuracy: 0.4914\n",
      "Epoch 25/50\n",
      "50000/50000 [==============================] - 1s 10us/sample - loss: 0.9472 - accuracy: 0.6832 - val_loss: 1.4790 - val_accuracy: 0.4921\n",
      "Epoch 26/50\n",
      "50000/50000 [==============================] - 1s 10us/sample - loss: 0.9267 - accuracy: 0.6918 - val_loss: 1.4831 - val_accuracy: 0.4936\n",
      "Epoch 27/50\n",
      "50000/50000 [==============================] - 1s 10us/sample - loss: 0.9040 - accuracy: 0.6997 - val_loss: 1.4872 - val_accuracy: 0.4958\n",
      "Epoch 28/50\n",
      "50000/50000 [==============================] - 1s 10us/sample - loss: 0.8845 - accuracy: 0.7063 - val_loss: 1.4886 - val_accuracy: 0.4963\n",
      "Epoch 29/50\n",
      "50000/50000 [==============================] - 1s 10us/sample - loss: 0.8656 - accuracy: 0.7159 - val_loss: 1.4934 - val_accuracy: 0.4983\n",
      "Epoch 30/50\n",
      "50000/50000 [==============================] - 1s 10us/sample - loss: 0.8444 - accuracy: 0.7243 - val_loss: 1.5021 - val_accuracy: 0.4941\n",
      "Epoch 00030: early stopping\n"
     ]
    }
   ],
   "source": [
    "model = build_mlp(input_shape=x_train.shape[1:])\n",
    "model.summary()\n",
    "optimizer = keras.optimizers.SGD(lr=LEARNING_RATE, nesterov=True, momentum=MOMENTUM)\n",
    "model.compile(loss=\"categorical_crossentropy\", metrics=[\"accuracy\"], optimizer=optimizer)\n",
    "\n",
    "model.fit(x_train, y_train, \n",
    "          epochs=EPOCHS, \n",
    "          batch_size=BATCH_SIZE, \n",
    "          validation_data=(x_test, y_test), \n",
    "          shuffle=True,\n",
    "          callbacks=[earlystop]\n",
    "         )\n",
    "\n",
    "# Collect results\n",
    "train_loss = model.history.history[\"loss\"]\n",
    "valid_loss = model.history.history[\"val_loss\"]\n",
    "train_acc = model.history.history[\"accuracy\"]\n",
    "valid_acc = model.history.history[\"val_accuracy\"]"
   ]
  },
  {
   "cell_type": "code",
   "execution_count": 13,
   "metadata": {
    "scrolled": false
   },
   "outputs": [
    {
     "data": {
      "image/png": "[encoded data removed]",
      "text/plain": [
       "<Figure size 432x288 with 1 Axes>"
      ]
     },
     "metadata": {
      "needs_background": "light"
     },
     "output_type": "display_data"
    },
    {
     "data": {
      "image/png": "[encoded data removed]",
      "text/plain": [
       "<Figure size 432x288 with 1 Axes>"
      ]
     },
     "metadata": {
      "needs_background": "light"
     },
     "output_type": "display_data"
    }
   ],
   "source": [
    "import matplotlib.pyplot as plt\n",
    "\n",
    "plt.plot(range(len(train_loss)), train_loss, label=\"train loss\")\n",
    "plt.plot(range(len(valid_loss)), valid_loss, label=\"valid loss\")\n",
    "plt.legend()\n",
    "plt.title(\"Loss\")\n",
    "plt.show()\n",
    "\n",
    "plt.plot(range(len(train_acc)), train_acc, label=\"train accuracy\")\n",
    "plt.plot(range(len(valid_acc)), valid_acc, label=\"valid accuracy\")\n",
    "plt.legend()\n",
    "plt.title(\"Accuracy\")\n",
    "plt.show()"
   ]
  },
  {
   "cell_type": "code",
   "execution_count": null,
   "metadata": {},
   "outputs": [],
   "source": [
    "# patience=25"
   ]
  },
  {
   "cell_type": "code",
   "execution_count": 14,
   "metadata": {},
   "outputs": [],
   "source": [
    "from tensorflow.keras.callbacks import EarlyStopping\n",
    "\n",
    "earlystop = EarlyStopping(monitor=\"val_loss\", \n",
    "                          patience=25, \n",
    "                          verbose=1\n",
    "                          )"
   ]
  },
  {
   "cell_type": "code",
   "execution_count": 15,
   "metadata": {},
   "outputs": [
    {
     "name": "stdout",
     "output_type": "stream",
     "text": [
      "Model: \"model_2\"\n",
      "_________________________________________________________________\n",
      "Layer (type)                 Output Shape              Param #   \n",
      "=================================================================\n",
      "input_3 (InputLayer)         [(None, 3072)]            0         \n",
      "_________________________________________________________________\n",
      "hidden_layer1 (Dense)        (None, 512)               1573376   \n",
      "_________________________________________________________________\n",
      "batch_normalization_6 (Batch (None, 512)               2048      \n",
      "_________________________________________________________________\n",
      "hidden_layer2 (Dense)        (None, 256)               131328    \n",
      "_________________________________________________________________\n",
      "batch_normalization_7 (Batch (None, 256)               1024      \n",
      "_________________________________________________________________\n",
      "hidden_layer3 (Dense)        (None, 128)               32896     \n",
      "_________________________________________________________________\n",
      "batch_normalization_8 (Batch (None, 128)               512       \n",
      "_________________________________________________________________\n",
      "output (Dense)               (None, 10)                1290      \n",
      "=================================================================\n",
      "Total params: 1,742,474\n",
      "Trainable params: 1,740,682\n",
      "Non-trainable params: 1,792\n",
      "_________________________________________________________________\n",
      "Train on 50000 samples, validate on 10000 samples\n",
      "Epoch 1/50\n",
      "50000/50000 [==============================] - 1s 25us/sample - loss: 2.2436 - accuracy: 0.2697 - val_loss: 2.1313 - val_accuracy: 0.2212\n",
      "Epoch 2/50\n",
      "50000/50000 [==============================] - 1s 10us/sample - loss: 1.7424 - accuracy: 0.3898 - val_loss: 1.9561 - val_accuracy: 0.3041\n",
      "Epoch 3/50\n",
      "50000/50000 [==============================] - 1s 10us/sample - loss: 1.6170 - accuracy: 0.4332 - val_loss: 1.8022 - val_accuracy: 0.3851\n",
      "Epoch 4/50\n",
      "50000/50000 [==============================] - 1s 10us/sample - loss: 1.5437 - accuracy: 0.4618 - val_loss: 1.7031 - val_accuracy: 0.4170\n",
      "Epoch 5/50\n",
      "50000/50000 [==============================] - 1s 10us/sample - loss: 1.4892 - accuracy: 0.4801 - val_loss: 1.6460 - val_accuracy: 0.4330\n",
      "Epoch 6/50\n",
      "50000/50000 [==============================] - 1s 10us/sample - loss: 1.4461 - accuracy: 0.4950 - val_loss: 1.5956 - val_accuracy: 0.4371\n",
      "Epoch 7/50\n",
      "50000/50000 [==============================] - 1s 10us/sample - loss: 1.4080 - accuracy: 0.5099 - val_loss: 1.5577 - val_accuracy: 0.4579\n",
      "Epoch 8/50\n",
      "50000/50000 [==============================] - 1s 10us/sample - loss: 1.3715 - accuracy: 0.5227 - val_loss: 1.5323 - val_accuracy: 0.4595\n",
      "Epoch 9/50\n",
      "50000/50000 [==============================] - 1s 10us/sample - loss: 1.3384 - accuracy: 0.5349 - val_loss: 1.5106 - val_accuracy: 0.4722\n",
      "Epoch 10/50\n",
      "50000/50000 [==============================] - 1s 10us/sample - loss: 1.3100 - accuracy: 0.5441 - val_loss: 1.5040 - val_accuracy: 0.4688\n",
      "Epoch 11/50\n",
      "50000/50000 [==============================] - 1s 10us/sample - loss: 1.2819 - accuracy: 0.5553 - val_loss: 1.4871 - val_accuracy: 0.4771\n",
      "Epoch 12/50\n",
      "50000/50000 [==============================] - 1s 10us/sample - loss: 1.2569 - accuracy: 0.5653 - val_loss: 1.4820 - val_accuracy: 0.4784\n",
      "Epoch 13/50\n",
      "50000/50000 [==============================] - 1s 10us/sample - loss: 1.2308 - accuracy: 0.5744 - val_loss: 1.4732 - val_accuracy: 0.4857\n",
      "Epoch 14/50\n",
      "50000/50000 [==============================] - 1s 10us/sample - loss: 1.2065 - accuracy: 0.5838 - val_loss: 1.4709 - val_accuracy: 0.4860\n",
      "Epoch 15/50\n",
      "50000/50000 [==============================] - 1s 10us/sample - loss: 1.1819 - accuracy: 0.5912 - val_loss: 1.4680 - val_accuracy: 0.4813\n",
      "Epoch 16/50\n",
      "50000/50000 [==============================] - 1s 10us/sample - loss: 1.1609 - accuracy: 0.6020 - val_loss: 1.4707 - val_accuracy: 0.4858\n",
      "Epoch 17/50\n",
      "50000/50000 [==============================] - 1s 10us/sample - loss: 1.1368 - accuracy: 0.6102 - val_loss: 1.4641 - val_accuracy: 0.4839\n",
      "Epoch 18/50\n",
      "50000/50000 [==============================] - 1s 10us/sample - loss: 1.1135 - accuracy: 0.6182 - val_loss: 1.4553 - val_accuracy: 0.4896\n",
      "Epoch 19/50\n",
      "50000/50000 [==============================] - 1s 10us/sample - loss: 1.0931 - accuracy: 0.6277 - val_loss: 1.4553 - val_accuracy: 0.4899\n",
      "Epoch 20/50\n",
      "50000/50000 [==============================] - 1s 10us/sample - loss: 1.0741 - accuracy: 0.6352 - val_loss: 1.4782 - val_accuracy: 0.4872\n",
      "Epoch 21/50\n",
      "50000/50000 [==============================] - 1s 10us/sample - loss: 1.0527 - accuracy: 0.6408 - val_loss: 1.4570 - val_accuracy: 0.4941\n",
      "Epoch 22/50\n",
      "50000/50000 [==============================] - 1s 10us/sample - loss: 1.0297 - accuracy: 0.6526 - val_loss: 1.4611 - val_accuracy: 0.4960\n",
      "Epoch 23/50\n",
      "50000/50000 [==============================] - 1s 10us/sample - loss: 1.0130 - accuracy: 0.6578 - val_loss: 1.4533 - val_accuracy: 0.4952\n",
      "Epoch 24/50\n",
      "50000/50000 [==============================] - 1s 10us/sample - loss: 0.9913 - accuracy: 0.6665 - val_loss: 1.4671 - val_accuracy: 0.4940\n",
      "Epoch 25/50\n",
      "50000/50000 [==============================] - 1s 10us/sample - loss: 0.9718 - accuracy: 0.6729 - val_loss: 1.4613 - val_accuracy: 0.4955\n",
      "Epoch 26/50\n",
      "50000/50000 [==============================] - 1s 10us/sample - loss: 0.9529 - accuracy: 0.6809 - val_loss: 1.4728 - val_accuracy: 0.4939\n",
      "Epoch 27/50\n",
      "50000/50000 [==============================] - 1s 10us/sample - loss: 0.9311 - accuracy: 0.6890 - val_loss: 1.4727 - val_accuracy: 0.4926\n",
      "Epoch 28/50\n",
      "50000/50000 [==============================] - 1s 10us/sample - loss: 0.9126 - accuracy: 0.6956 - val_loss: 1.4827 - val_accuracy: 0.4903\n",
      "Epoch 29/50\n",
      "50000/50000 [==============================] - 1s 10us/sample - loss: 0.8934 - accuracy: 0.7038 - val_loss: 1.4963 - val_accuracy: 0.4878\n",
      "Epoch 30/50\n",
      "50000/50000 [==============================] - 1s 10us/sample - loss: 0.8747 - accuracy: 0.7103 - val_loss: 1.4912 - val_accuracy: 0.4888\n",
      "Epoch 31/50\n",
      "50000/50000 [==============================] - 1s 10us/sample - loss: 0.8551 - accuracy: 0.7186 - val_loss: 1.4988 - val_accuracy: 0.4931\n",
      "Epoch 32/50\n",
      "50000/50000 [==============================] - 1s 10us/sample - loss: 0.8376 - accuracy: 0.7271 - val_loss: 1.4902 - val_accuracy: 0.4933\n",
      "Epoch 33/50\n",
      "50000/50000 [==============================] - 1s 10us/sample - loss: 0.8189 - accuracy: 0.7328 - val_loss: 1.5124 - val_accuracy: 0.4930\n",
      "Epoch 34/50\n",
      "50000/50000 [==============================] - 1s 10us/sample - loss: 0.7988 - accuracy: 0.7396 - val_loss: 1.5040 - val_accuracy: 0.4941\n",
      "Epoch 35/50\n",
      "50000/50000 [==============================] - 1s 10us/sample - loss: 0.7802 - accuracy: 0.7472 - val_loss: 1.5200 - val_accuracy: 0.4915\n",
      "Epoch 36/50\n",
      "50000/50000 [==============================] - 1s 10us/sample - loss: 0.7606 - accuracy: 0.7562 - val_loss: 1.5299 - val_accuracy: 0.4898\n",
      "Epoch 37/50\n",
      "50000/50000 [==============================] - 1s 10us/sample - loss: 0.7435 - accuracy: 0.7626 - val_loss: 1.5191 - val_accuracy: 0.4965\n",
      "Epoch 38/50\n",
      "50000/50000 [==============================] - 1s 10us/sample - loss: 0.7246 - accuracy: 0.7703 - val_loss: 1.5338 - val_accuracy: 0.4935\n",
      "Epoch 39/50\n",
      "50000/50000 [==============================] - 1s 10us/sample - loss: 0.7074 - accuracy: 0.7780 - val_loss: 1.5570 - val_accuracy: 0.4894\n",
      "Epoch 40/50\n",
      "50000/50000 [==============================] - 1s 10us/sample - loss: 0.6872 - accuracy: 0.7861 - val_loss: 1.5570 - val_accuracy: 0.4987\n",
      "Epoch 41/50\n",
      "50000/50000 [==============================] - 1s 10us/sample - loss: 0.6700 - accuracy: 0.7930 - val_loss: 1.5584 - val_accuracy: 0.4959\n",
      "Epoch 42/50\n",
      "50000/50000 [==============================] - 1s 10us/sample - loss: 0.6526 - accuracy: 0.7981 - val_loss: 1.5719 - val_accuracy: 0.4935\n",
      "Epoch 43/50\n",
      "50000/50000 [==============================] - 1s 10us/sample - loss: 0.6361 - accuracy: 0.8064 - val_loss: 1.6085 - val_accuracy: 0.4899\n",
      "Epoch 44/50\n",
      "50000/50000 [==============================] - 1s 10us/sample - loss: 0.6175 - accuracy: 0.8125 - val_loss: 1.5879 - val_accuracy: 0.4986\n",
      "Epoch 45/50\n",
      "50000/50000 [==============================] - 1s 10us/sample - loss: 0.6009 - accuracy: 0.8193 - val_loss: 1.5983 - val_accuracy: 0.4958\n"
     ]
    },
    {
     "name": "stdout",
     "output_type": "stream",
     "text": [
      "Epoch 46/50\n",
      "50000/50000 [==============================] - 1s 10us/sample - loss: 0.5828 - accuracy: 0.8274 - val_loss: 1.6209 - val_accuracy: 0.4937\n",
      "Epoch 47/50\n",
      "50000/50000 [==============================] - 1s 10us/sample - loss: 0.5667 - accuracy: 0.8334 - val_loss: 1.6388 - val_accuracy: 0.4857\n",
      "Epoch 48/50\n",
      "50000/50000 [==============================] - 1s 10us/sample - loss: 0.5506 - accuracy: 0.8394 - val_loss: 1.6590 - val_accuracy: 0.4902\n",
      "Epoch 00048: early stopping\n"
     ]
    }
   ],
   "source": [
    "model = build_mlp(input_shape=x_train.shape[1:])\n",
    "model.summary()\n",
    "optimizer = keras.optimizers.SGD(lr=LEARNING_RATE, nesterov=True, momentum=MOMENTUM)\n",
    "model.compile(loss=\"categorical_crossentropy\", metrics=[\"accuracy\"], optimizer=optimizer)\n",
    "\n",
    "model.fit(x_train, y_train, \n",
    "          epochs=EPOCHS, \n",
    "          batch_size=BATCH_SIZE, \n",
    "          validation_data=(x_test, y_test), \n",
    "          shuffle=True,\n",
    "          callbacks=[earlystop]\n",
    "         )\n",
    "\n",
    "# Collect results\n",
    "train_loss = model.history.history[\"loss\"]\n",
    "valid_loss = model.history.history[\"val_loss\"]\n",
    "train_acc = model.history.history[\"accuracy\"]\n",
    "valid_acc = model.history.history[\"val_accuracy\"]"
   ]
  },
  {
   "cell_type": "code",
   "execution_count": 16,
   "metadata": {
    "scrolled": false
   },
   "outputs": [
    {
     "data": {
      "image/png": "[encoded data removed]",
      "text/plain": [
       "<Figure size 432x288 with 1 Axes>"
      ]
     },
     "metadata": {
      "needs_background": "light"
     },
     "output_type": "display_data"
    },
    {
     "data": {
      "image/png": "[encoded data removed]",
      "text/plain": [
       "<Figure size 432x288 with 1 Axes>"
      ]
     },
     "metadata": {
      "needs_background": "light"
     },
     "output_type": "display_data"
    }
   ],
   "source": [
    "import matplotlib.pyplot as plt\n",
    "\n",
    "plt.plot(range(len(train_loss)), train_loss, label=\"train loss\")\n",
    "plt.plot(range(len(valid_loss)), valid_loss, label=\"valid loss\")\n",
    "plt.legend()\n",
    "plt.title(\"Loss\")\n",
    "plt.show()\n",
    "\n",
    "plt.plot(range(len(train_acc)), train_acc, label=\"train accuracy\")\n",
    "plt.plot(range(len(valid_acc)), valid_acc, label=\"valid accuracy\")\n",
    "plt.legend()\n",
    "plt.title(\"Accuracy\")\n",
    "plt.show()"
   ]
  },
  {
   "cell_type": "code",
   "execution_count": null,
   "metadata": {},
   "outputs": [],
   "source": []
  }
 ],
 "metadata": {
  "kernelspec": {
   "display_name": "Python 3",
   "language": "python",
   "name": "python3"
  },
  "language_info": {
   "codemirror_mode": {
    "name": "ipython",
    "version": 3
   },
   "file_extension": ".py",
   "mimetype": "text/x-python",
   "name": "python",
   "nbconvert_exporter": "python",
   "pygments_lexer": "ipython3",
   "version": "3.7.5"
  }
 },
 "nbformat": 4,
 "nbformat_minor": 2
}
