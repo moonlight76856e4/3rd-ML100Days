{
 "cells": [
  {
   "cell_type": "markdown",
   "metadata": {},
   "source": [
    "### multi-label case example\n",
    "\n",
    "source: Multi-label classification with Keras, https://www.pyimagesearch.com/2018/05/07/multi-label-classification-with-keras/\n",
    "\n",
    "data: From the author's app, a user will upload a photo of clothing they like (ex. shirt, dress, pants, shoes) and the system will return similar items and include links for them to purchase the clothes online.\n",
    "\n",
    "    The dataset consists of 2,167 images across six categories, including:\n",
    "\n",
    "        Black jeans (344 images)\n",
    "        Blue dress (386 images)\n",
    "        Blue jeans (356 images)\n",
    "        Blue shirt (369 images)\n",
    "        Red dress (380 images)\n",
    "        Red shirt (332 images)\n",
    "\n",
    "predict target: predict both color and clothing type\n",
    "\n",
    "evaluation indicaiton: training loss and accuracy"
   ]
  },
  {
   "cell_type": "code",
   "execution_count": null,
   "metadata": {},
   "outputs": [],
   "source": []
  }
 ],
 "metadata": {
  "kernelspec": {
   "display_name": "Python 3",
   "language": "python",
   "name": "python3"
  },
  "language_info": {
   "codemirror_mode": {
    "name": "ipython",
    "version": 3
   },
   "file_extension": ".py",
   "mimetype": "text/x-python",
   "name": "python",
   "nbconvert_exporter": "python",
   "pygments_lexer": "ipython3",
   "version": "3.7.3"
  }
 },
 "nbformat": 4,
 "nbformat_minor": 2
}
